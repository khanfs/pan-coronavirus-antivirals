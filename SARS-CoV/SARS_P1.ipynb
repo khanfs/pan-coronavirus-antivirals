{
  "nbformat": 4,
  "nbformat_minor": 0,
  "metadata": {
    "colab": {
      "name": "SARS-P1.ipynb",
      "provenance": []
    },
    "kernelspec": {
      "name": "python3",
      "display_name": "Python 3"
    },
    "language_info": {
      "name": "python"
    },
    "widgets": {
      "application/vnd.jupyter.widget-state+json": {
        "0d2ef63507fa4f938e03c35b840c8753": {
          "model_module": "@jupyter-widgets/controls",
          "model_name": "HBoxModel",
          "model_module_version": "1.5.0",
          "state": {
            "_dom_classes": [],
            "_model_module": "@jupyter-widgets/controls",
            "_model_module_version": "1.5.0",
            "_model_name": "HBoxModel",
            "_view_count": null,
            "_view_module": "@jupyter-widgets/controls",
            "_view_module_version": "1.5.0",
            "_view_name": "HBoxView",
            "box_style": "",
            "children": [
              "IPY_MODEL_cdd4843559ff4ba1901eed66d991ee11",
              "IPY_MODEL_0ade3fd218454a648c8c6f88df224ea4",
              "IPY_MODEL_1a98b28f62954bffa5c720c924e58984"
            ],
            "layout": "IPY_MODEL_71a5d7ec44db4a88bfe79233048215f3"
          }
        },
        "cdd4843559ff4ba1901eed66d991ee11": {
          "model_module": "@jupyter-widgets/controls",
          "model_name": "HTMLModel",
          "model_module_version": "1.5.0",
          "state": {
            "_dom_classes": [],
            "_model_module": "@jupyter-widgets/controls",
            "_model_module_version": "1.5.0",
            "_model_name": "HTMLModel",
            "_view_count": null,
            "_view_module": "@jupyter-widgets/controls",
            "_view_module_version": "1.5.0",
            "_view_name": "HTMLView",
            "description": "",
            "description_tooltip": null,
            "layout": "IPY_MODEL_fdc0bcf0ec3a416ab36cbcc55ff00419",
            "placeholder": "​",
            "style": "IPY_MODEL_465aa8ef6e3346dd814ec033c3167fc2",
            "value": "100%"
          }
        },
        "0ade3fd218454a648c8c6f88df224ea4": {
          "model_module": "@jupyter-widgets/controls",
          "model_name": "FloatProgressModel",
          "model_module_version": "1.5.0",
          "state": {
            "_dom_classes": [],
            "_model_module": "@jupyter-widgets/controls",
            "_model_module_version": "1.5.0",
            "_model_name": "FloatProgressModel",
            "_view_count": null,
            "_view_module": "@jupyter-widgets/controls",
            "_view_module_version": "1.5.0",
            "_view_name": "ProgressView",
            "bar_style": "success",
            "description": "",
            "description_tooltip": null,
            "layout": "IPY_MODEL_1cbee1704dbf43079e8bd14bb3dfe44e",
            "max": 152,
            "min": 0,
            "orientation": "horizontal",
            "style": "IPY_MODEL_4b3de029ceb64163a04bdfc913e83547",
            "value": 152
          }
        },
        "1a98b28f62954bffa5c720c924e58984": {
          "model_module": "@jupyter-widgets/controls",
          "model_name": "HTMLModel",
          "model_module_version": "1.5.0",
          "state": {
            "_dom_classes": [],
            "_model_module": "@jupyter-widgets/controls",
            "_model_module_version": "1.5.0",
            "_model_name": "HTMLModel",
            "_view_count": null,
            "_view_module": "@jupyter-widgets/controls",
            "_view_module_version": "1.5.0",
            "_view_name": "HTMLView",
            "description": "",
            "description_tooltip": null,
            "layout": "IPY_MODEL_a5f35168df014761952f9cbbd26ffc88",
            "placeholder": "​",
            "style": "IPY_MODEL_20706d9ef22943208d3a94b6887c7dca",
            "value": " 152/152 [00:00&lt;00:00, 1861.14it/s]"
          }
        },
        "71a5d7ec44db4a88bfe79233048215f3": {
          "model_module": "@jupyter-widgets/base",
          "model_name": "LayoutModel",
          "model_module_version": "1.2.0",
          "state": {
            "_model_module": "@jupyter-widgets/base",
            "_model_module_version": "1.2.0",
            "_model_name": "LayoutModel",
            "_view_count": null,
            "_view_module": "@jupyter-widgets/base",
            "_view_module_version": "1.2.0",
            "_view_name": "LayoutView",
            "align_content": null,
            "align_items": null,
            "align_self": null,
            "border": null,
            "bottom": null,
            "display": null,
            "flex": null,
            "flex_flow": null,
            "grid_area": null,
            "grid_auto_columns": null,
            "grid_auto_flow": null,
            "grid_auto_rows": null,
            "grid_column": null,
            "grid_gap": null,
            "grid_row": null,
            "grid_template_areas": null,
            "grid_template_columns": null,
            "grid_template_rows": null,
            "height": null,
            "justify_content": null,
            "justify_items": null,
            "left": null,
            "margin": null,
            "max_height": null,
            "max_width": null,
            "min_height": null,
            "min_width": null,
            "object_fit": null,
            "object_position": null,
            "order": null,
            "overflow": null,
            "overflow_x": null,
            "overflow_y": null,
            "padding": null,
            "right": null,
            "top": null,
            "visibility": null,
            "width": null
          }
        },
        "fdc0bcf0ec3a416ab36cbcc55ff00419": {
          "model_module": "@jupyter-widgets/base",
          "model_name": "LayoutModel",
          "model_module_version": "1.2.0",
          "state": {
            "_model_module": "@jupyter-widgets/base",
            "_model_module_version": "1.2.0",
            "_model_name": "LayoutModel",
            "_view_count": null,
            "_view_module": "@jupyter-widgets/base",
            "_view_module_version": "1.2.0",
            "_view_name": "LayoutView",
            "align_content": null,
            "align_items": null,
            "align_self": null,
            "border": null,
            "bottom": null,
            "display": null,
            "flex": null,
            "flex_flow": null,
            "grid_area": null,
            "grid_auto_columns": null,
            "grid_auto_flow": null,
            "grid_auto_rows": null,
            "grid_column": null,
            "grid_gap": null,
            "grid_row": null,
            "grid_template_areas": null,
            "grid_template_columns": null,
            "grid_template_rows": null,
            "height": null,
            "justify_content": null,
            "justify_items": null,
            "left": null,
            "margin": null,
            "max_height": null,
            "max_width": null,
            "min_height": null,
            "min_width": null,
            "object_fit": null,
            "object_position": null,
            "order": null,
            "overflow": null,
            "overflow_x": null,
            "overflow_y": null,
            "padding": null,
            "right": null,
            "top": null,
            "visibility": null,
            "width": null
          }
        },
        "465aa8ef6e3346dd814ec033c3167fc2": {
          "model_module": "@jupyter-widgets/controls",
          "model_name": "DescriptionStyleModel",
          "model_module_version": "1.5.0",
          "state": {
            "_model_module": "@jupyter-widgets/controls",
            "_model_module_version": "1.5.0",
            "_model_name": "DescriptionStyleModel",
            "_view_count": null,
            "_view_module": "@jupyter-widgets/base",
            "_view_module_version": "1.2.0",
            "_view_name": "StyleView",
            "description_width": ""
          }
        },
        "1cbee1704dbf43079e8bd14bb3dfe44e": {
          "model_module": "@jupyter-widgets/base",
          "model_name": "LayoutModel",
          "model_module_version": "1.2.0",
          "state": {
            "_model_module": "@jupyter-widgets/base",
            "_model_module_version": "1.2.0",
            "_model_name": "LayoutModel",
            "_view_count": null,
            "_view_module": "@jupyter-widgets/base",
            "_view_module_version": "1.2.0",
            "_view_name": "LayoutView",
            "align_content": null,
            "align_items": null,
            "align_self": null,
            "border": null,
            "bottom": null,
            "display": null,
            "flex": null,
            "flex_flow": null,
            "grid_area": null,
            "grid_auto_columns": null,
            "grid_auto_flow": null,
            "grid_auto_rows": null,
            "grid_column": null,
            "grid_gap": null,
            "grid_row": null,
            "grid_template_areas": null,
            "grid_template_columns": null,
            "grid_template_rows": null,
            "height": null,
            "justify_content": null,
            "justify_items": null,
            "left": null,
            "margin": null,
            "max_height": null,
            "max_width": null,
            "min_height": null,
            "min_width": null,
            "object_fit": null,
            "object_position": null,
            "order": null,
            "overflow": null,
            "overflow_x": null,
            "overflow_y": null,
            "padding": null,
            "right": null,
            "top": null,
            "visibility": null,
            "width": null
          }
        },
        "4b3de029ceb64163a04bdfc913e83547": {
          "model_module": "@jupyter-widgets/controls",
          "model_name": "ProgressStyleModel",
          "model_module_version": "1.5.0",
          "state": {
            "_model_module": "@jupyter-widgets/controls",
            "_model_module_version": "1.5.0",
            "_model_name": "ProgressStyleModel",
            "_view_count": null,
            "_view_module": "@jupyter-widgets/base",
            "_view_module_version": "1.2.0",
            "_view_name": "StyleView",
            "bar_color": null,
            "description_width": ""
          }
        },
        "a5f35168df014761952f9cbbd26ffc88": {
          "model_module": "@jupyter-widgets/base",
          "model_name": "LayoutModel",
          "model_module_version": "1.2.0",
          "state": {
            "_model_module": "@jupyter-widgets/base",
            "_model_module_version": "1.2.0",
            "_model_name": "LayoutModel",
            "_view_count": null,
            "_view_module": "@jupyter-widgets/base",
            "_view_module_version": "1.2.0",
            "_view_name": "LayoutView",
            "align_content": null,
            "align_items": null,
            "align_self": null,
            "border": null,
            "bottom": null,
            "display": null,
            "flex": null,
            "flex_flow": null,
            "grid_area": null,
            "grid_auto_columns": null,
            "grid_auto_flow": null,
            "grid_auto_rows": null,
            "grid_column": null,
            "grid_gap": null,
            "grid_row": null,
            "grid_template_areas": null,
            "grid_template_columns": null,
            "grid_template_rows": null,
            "height": null,
            "justify_content": null,
            "justify_items": null,
            "left": null,
            "margin": null,
            "max_height": null,
            "max_width": null,
            "min_height": null,
            "min_width": null,
            "object_fit": null,
            "object_position": null,
            "order": null,
            "overflow": null,
            "overflow_x": null,
            "overflow_y": null,
            "padding": null,
            "right": null,
            "top": null,
            "visibility": null,
            "width": null
          }
        },
        "20706d9ef22943208d3a94b6887c7dca": {
          "model_module": "@jupyter-widgets/controls",
          "model_name": "DescriptionStyleModel",
          "model_module_version": "1.5.0",
          "state": {
            "_model_module": "@jupyter-widgets/controls",
            "_model_module_version": "1.5.0",
            "_model_name": "DescriptionStyleModel",
            "_view_count": null,
            "_view_module": "@jupyter-widgets/base",
            "_view_module_version": "1.2.0",
            "_view_name": "StyleView",
            "description_width": ""
          }
        }
      }
    }
  },
  "cells": [
    {
      "cell_type": "markdown",
      "source": [
        "#**SARS-CoV Compounds & Bioactivity Data**\n",
        "##**Data Collection and Preprocessing**\n"
      ],
      "metadata": {
        "id": "KELHGdghpNsC"
      }
    },
    {
      "cell_type": "code",
      "execution_count": 1,
      "metadata": {
        "id": "s7T262i_op0i"
      },
      "outputs": [],
      "source": [
        "# Import packages, modules and libraries \n",
        "import math \n",
        "from pathlib import Path \n",
        "from zipfile import ZipFile \n",
        "from tempfile import TemporaryDirectory \n",
        "from tqdm.auto import tqdm \n",
        "\n",
        "import pandas as pd\n",
        "import matplotlib.pyplot as plt \n",
        "import numpy as np "
      ]
    },
    {
      "cell_type": "code",
      "source": [
        "# Install NBVAL\n",
        "! pip install nbval"
      ],
      "metadata": {
        "colab": {
          "base_uri": "https://localhost:8080/"
        },
        "id": "UPke1UdxuaFm",
        "outputId": "1d68137c-38dc-40ec-ae75-ec70f0f4f8f8"
      },
      "execution_count": 2,
      "outputs": [
        {
          "output_type": "stream",
          "name": "stdout",
          "text": [
            "Looking in indexes: https://pypi.org/simple, https://us-python.pkg.dev/colab-wheels/public/simple/\n",
            "Requirement already satisfied: nbval in /usr/local/lib/python3.7/dist-packages (0.9.6)\n",
            "Requirement already satisfied: nbformat in /usr/local/lib/python3.7/dist-packages (from nbval) (5.4.0)\n",
            "Requirement already satisfied: coverage in /usr/local/lib/python3.7/dist-packages (from nbval) (3.7.1)\n",
            "Requirement already satisfied: six in /usr/local/lib/python3.7/dist-packages (from nbval) (1.15.0)\n",
            "Requirement already satisfied: jupyter-client in /usr/local/lib/python3.7/dist-packages (from nbval) (5.3.5)\n",
            "Requirement already satisfied: ipykernel in /usr/local/lib/python3.7/dist-packages (from nbval) (4.10.1)\n",
            "Requirement already satisfied: pytest>=2.8 in /usr/local/lib/python3.7/dist-packages (from nbval) (3.6.4)\n",
            "Requirement already satisfied: more-itertools>=4.0.0 in /usr/local/lib/python3.7/dist-packages (from pytest>=2.8->nbval) (8.13.0)\n",
            "Requirement already satisfied: pluggy<0.8,>=0.5 in /usr/local/lib/python3.7/dist-packages (from pytest>=2.8->nbval) (0.7.1)\n",
            "Requirement already satisfied: attrs>=17.4.0 in /usr/local/lib/python3.7/dist-packages (from pytest>=2.8->nbval) (21.4.0)\n",
            "Requirement already satisfied: py>=1.5.0 in /usr/local/lib/python3.7/dist-packages (from pytest>=2.8->nbval) (1.11.0)\n",
            "Requirement already satisfied: setuptools in /usr/local/lib/python3.7/dist-packages (from pytest>=2.8->nbval) (57.4.0)\n",
            "Requirement already satisfied: atomicwrites>=1.0 in /usr/local/lib/python3.7/dist-packages (from pytest>=2.8->nbval) (1.4.0)\n",
            "Requirement already satisfied: traitlets>=4.1.0 in /usr/local/lib/python3.7/dist-packages (from ipykernel->nbval) (5.1.1)\n",
            "Requirement already satisfied: tornado>=4.0 in /usr/local/lib/python3.7/dist-packages (from ipykernel->nbval) (5.1.1)\n",
            "Requirement already satisfied: ipython>=4.0.0 in /usr/local/lib/python3.7/dist-packages (from ipykernel->nbval) (5.5.0)\n",
            "Requirement already satisfied: pygments in /usr/local/lib/python3.7/dist-packages (from ipython>=4.0.0->ipykernel->nbval) (2.6.1)\n",
            "Requirement already satisfied: pexpect in /usr/local/lib/python3.7/dist-packages (from ipython>=4.0.0->ipykernel->nbval) (4.8.0)\n",
            "Requirement already satisfied: decorator in /usr/local/lib/python3.7/dist-packages (from ipython>=4.0.0->ipykernel->nbval) (4.4.2)\n",
            "Requirement already satisfied: prompt-toolkit<2.0.0,>=1.0.4 in /usr/local/lib/python3.7/dist-packages (from ipython>=4.0.0->ipykernel->nbval) (1.0.18)\n",
            "Requirement already satisfied: simplegeneric>0.8 in /usr/local/lib/python3.7/dist-packages (from ipython>=4.0.0->ipykernel->nbval) (0.8.1)\n",
            "Requirement already satisfied: pickleshare in /usr/local/lib/python3.7/dist-packages (from ipython>=4.0.0->ipykernel->nbval) (0.7.5)\n",
            "Requirement already satisfied: wcwidth in /usr/local/lib/python3.7/dist-packages (from prompt-toolkit<2.0.0,>=1.0.4->ipython>=4.0.0->ipykernel->nbval) (0.2.5)\n",
            "Requirement already satisfied: pyzmq>=13 in /usr/local/lib/python3.7/dist-packages (from jupyter-client->nbval) (23.1.0)\n",
            "Requirement already satisfied: python-dateutil>=2.1 in /usr/local/lib/python3.7/dist-packages (from jupyter-client->nbval) (2.8.2)\n",
            "Requirement already satisfied: jupyter-core>=4.6.0 in /usr/local/lib/python3.7/dist-packages (from jupyter-client->nbval) (4.10.0)\n",
            "Requirement already satisfied: jsonschema>=2.6 in /usr/local/lib/python3.7/dist-packages (from nbformat->nbval) (4.3.3)\n",
            "Requirement already satisfied: fastjsonschema in /usr/local/lib/python3.7/dist-packages (from nbformat->nbval) (2.15.3)\n",
            "Requirement already satisfied: pyrsistent!=0.17.0,!=0.17.1,!=0.17.2,>=0.14.0 in /usr/local/lib/python3.7/dist-packages (from jsonschema>=2.6->nbformat->nbval) (0.18.1)\n",
            "Requirement already satisfied: importlib-resources>=1.4.0 in /usr/local/lib/python3.7/dist-packages (from jsonschema>=2.6->nbformat->nbval) (5.7.1)\n",
            "Requirement already satisfied: importlib-metadata in /usr/local/lib/python3.7/dist-packages (from jsonschema>=2.6->nbformat->nbval) (4.11.4)\n",
            "Requirement already satisfied: typing-extensions in /usr/local/lib/python3.7/dist-packages (from jsonschema>=2.6->nbformat->nbval) (4.1.1)\n",
            "Requirement already satisfied: zipp>=3.1.0 in /usr/local/lib/python3.7/dist-packages (from importlib-resources>=1.4.0->jsonschema>=2.6->nbformat->nbval) (3.8.0)\n",
            "Requirement already satisfied: ptyprocess>=0.5 in /usr/local/lib/python3.7/dist-packages (from pexpect->ipython>=4.0.0->ipykernel->nbval) (0.7.0)\n"
          ]
        }
      ]
    },
    {
      "cell_type": "code",
      "source": [
        "# Install RDKit\n",
        "! pip install rdkit-pypi -qqq"
      ],
      "metadata": {
        "id": "6kInvvDfrM8d"
      },
      "execution_count": 3,
      "outputs": []
    },
    {
      "cell_type": "code",
      "source": [
        "from rdkit import Chem\n",
        "from rdkit.Chem import PandasTools"
      ],
      "metadata": {
        "id": "VWMuiQrLrN9N"
      },
      "execution_count": 4,
      "outputs": []
    },
    {
      "cell_type": "code",
      "source": [
        "# Install ChEMBL library to access ChEMBL data and cheminformatics tools\n",
        "! pip install chembl_webresource_client"
      ],
      "metadata": {
        "colab": {
          "base_uri": "https://localhost:8080/"
        },
        "id": "8ht5eShDqbyG",
        "outputId": "77aeb924-d748-4bd7-88b3-052b58faccde"
      },
      "execution_count": 5,
      "outputs": [
        {
          "output_type": "stream",
          "name": "stdout",
          "text": [
            "Looking in indexes: https://pypi.org/simple, https://us-python.pkg.dev/colab-wheels/public/simple/\n",
            "Requirement already satisfied: chembl_webresource_client in /usr/local/lib/python3.7/dist-packages (0.10.8)\n",
            "Requirement already satisfied: easydict in /usr/local/lib/python3.7/dist-packages (from chembl_webresource_client) (1.9)\n",
            "Requirement already satisfied: requests-cache~=0.7.0 in /usr/local/lib/python3.7/dist-packages (from chembl_webresource_client) (0.7.5)\n",
            "Requirement already satisfied: requests>=2.18.4 in /usr/local/lib/python3.7/dist-packages (from chembl_webresource_client) (2.23.0)\n",
            "Requirement already satisfied: urllib3 in /usr/local/lib/python3.7/dist-packages (from chembl_webresource_client) (1.24.3)\n",
            "Requirement already satisfied: chardet<4,>=3.0.2 in /usr/local/lib/python3.7/dist-packages (from requests>=2.18.4->chembl_webresource_client) (3.0.4)\n",
            "Requirement already satisfied: certifi>=2017.4.17 in /usr/local/lib/python3.7/dist-packages (from requests>=2.18.4->chembl_webresource_client) (2022.6.15)\n",
            "Requirement already satisfied: idna<3,>=2.5 in /usr/local/lib/python3.7/dist-packages (from requests>=2.18.4->chembl_webresource_client) (2.10)\n",
            "Requirement already satisfied: attrs<22.0,>=21.2 in /usr/local/lib/python3.7/dist-packages (from requests-cache~=0.7.0->chembl_webresource_client) (21.4.0)\n",
            "Requirement already satisfied: itsdangerous>=2.0.1 in /usr/local/lib/python3.7/dist-packages (from requests-cache~=0.7.0->chembl_webresource_client) (2.1.2)\n",
            "Requirement already satisfied: url-normalize<2.0,>=1.4 in /usr/local/lib/python3.7/dist-packages (from requests-cache~=0.7.0->chembl_webresource_client) (1.4.3)\n",
            "Requirement already satisfied: pyyaml>=5.4 in /usr/local/lib/python3.7/dist-packages (from requests-cache~=0.7.0->chembl_webresource_client) (6.0)\n",
            "Requirement already satisfied: six in /usr/local/lib/python3.7/dist-packages (from url-normalize<2.0,>=1.4->requests-cache~=0.7.0->chembl_webresource_client) (1.15.0)\n"
          ]
        }
      ]
    },
    {
      "cell_type": "code",
      "source": [
        "# Import ChEMBL library settings to use library \n",
        "from chembl_webresource_client.settings import Settings"
      ],
      "metadata": {
        "id": "wwX3d6VSrkh_"
      },
      "execution_count": 6,
      "outputs": []
    },
    {
      "cell_type": "code",
      "source": [
        "# Import new_client object: imports the new functions of the library\n",
        "from chembl_webresource_client.new_client import new_client"
      ],
      "metadata": {
        "id": "Ut8mKzTSrn24"
      },
      "execution_count": 7,
      "outputs": []
    },
    {
      "cell_type": "code",
      "source": [
        "# Create resource objects for API access\n",
        "targets_api = new_client.target\n",
        "compounds_api = new_client.molecule\n",
        "bioactivities_api = new_client.activity"
      ],
      "metadata": {
        "id": "15Q5o1UGrtor"
      },
      "execution_count": 8,
      "outputs": []
    },
    {
      "cell_type": "code",
      "source": [
        "type(targets_api)"
      ],
      "metadata": {
        "colab": {
          "base_uri": "https://localhost:8080/"
        },
        "id": "yQas27GxrzBq",
        "outputId": "01874ff2-0798-42ac-ba00-08d0d0ef9361"
      },
      "execution_count": 9,
      "outputs": [
        {
          "output_type": "execute_result",
          "data": {
            "text/plain": [
              "chembl_webresource_client.query_set.QuerySet"
            ]
          },
          "metadata": {},
          "execution_count": 9
        }
      ]
    },
    {
      "cell_type": "markdown",
      "source": [
        "###**2. Get SARS-CoV-1 Target Data**"
      ],
      "metadata": {
        "id": "ZtUGUmJ8r9cP"
      }
    },
    {
      "cell_type": "code",
      "source": [
        "uniprot_id = \"P0C6X7\" # SARS-CoV-1 "
      ],
      "metadata": {
        "id": "w82oD1iCr87J"
      },
      "execution_count": 10,
      "outputs": []
    },
    {
      "cell_type": "code",
      "source": [
        "# Get target information from ChEMBL but restrict it to specified values only\n",
        "targets = targets_api.get(target_components__accession=uniprot_id).only(\n",
        "    \"target_chembl_id\", \"organism\", \"pref_name\", \"target_type\"\n",
        ")\n",
        "print(f'The type of the targets is \"{type(targets)}\"')"
      ],
      "metadata": {
        "colab": {
          "base_uri": "https://localhost:8080/"
        },
        "id": "U_r3oPQfsLmo",
        "outputId": "6e13fb8c-c4e3-4a83-fc3a-2872711ca690"
      },
      "execution_count": 11,
      "outputs": [
        {
          "output_type": "stream",
          "name": "stdout",
          "text": [
            "The type of the targets is \"<class 'chembl_webresource_client.query_set.QuerySet'>\"\n"
          ]
        }
      ]
    },
    {
      "cell_type": "markdown",
      "source": [
        "Download target data from ChEMBL"
      ],
      "metadata": {
        "id": "WJOfR_BzsREm"
      }
    },
    {
      "cell_type": "code",
      "source": [
        "targets = pd.DataFrame.from_records(targets)\n",
        "targets"
      ],
      "metadata": {
        "colab": {
          "base_uri": "https://localhost:8080/",
          "height": 112
        },
        "id": "V0eiSlH3shSG",
        "outputId": "db2c2e12-34d5-4d3b-89d2-646f1441d057"
      },
      "execution_count": 12,
      "outputs": [
        {
          "output_type": "execute_result",
          "data": {
            "text/plain": [
              "           organism                  pref_name target_chembl_id  \\\n",
              "0  SARS coronavirus  Replicase polyprotein 1ab       CHEMBL5118   \n",
              "1  SARS coronavirus  Replicase polyprotein 1ab       CHEMBL5118   \n",
              "\n",
              "      target_type  \n",
              "0  SINGLE PROTEIN  \n",
              "1  SINGLE PROTEIN  "
            ],
            "text/html": [
              "\n",
              "  <div id=\"df-a4682994-8a23-4c66-8b23-4c6709b4248e\">\n",
              "    <div class=\"colab-df-container\">\n",
              "      <div>\n",
              "<style scoped>\n",
              "    .dataframe tbody tr th:only-of-type {\n",
              "        vertical-align: middle;\n",
              "    }\n",
              "\n",
              "    .dataframe tbody tr th {\n",
              "        vertical-align: top;\n",
              "    }\n",
              "\n",
              "    .dataframe thead th {\n",
              "        text-align: right;\n",
              "    }\n",
              "</style>\n",
              "<table border=\"1\" class=\"dataframe\">\n",
              "  <thead>\n",
              "    <tr style=\"text-align: right;\">\n",
              "      <th></th>\n",
              "      <th>organism</th>\n",
              "      <th>pref_name</th>\n",
              "      <th>target_chembl_id</th>\n",
              "      <th>target_type</th>\n",
              "    </tr>\n",
              "  </thead>\n",
              "  <tbody>\n",
              "    <tr>\n",
              "      <th>0</th>\n",
              "      <td>SARS coronavirus</td>\n",
              "      <td>Replicase polyprotein 1ab</td>\n",
              "      <td>CHEMBL5118</td>\n",
              "      <td>SINGLE PROTEIN</td>\n",
              "    </tr>\n",
              "    <tr>\n",
              "      <th>1</th>\n",
              "      <td>SARS coronavirus</td>\n",
              "      <td>Replicase polyprotein 1ab</td>\n",
              "      <td>CHEMBL5118</td>\n",
              "      <td>SINGLE PROTEIN</td>\n",
              "    </tr>\n",
              "  </tbody>\n",
              "</table>\n",
              "</div>\n",
              "      <button class=\"colab-df-convert\" onclick=\"convertToInteractive('df-a4682994-8a23-4c66-8b23-4c6709b4248e')\"\n",
              "              title=\"Convert this dataframe to an interactive table.\"\n",
              "              style=\"display:none;\">\n",
              "        \n",
              "  <svg xmlns=\"http://www.w3.org/2000/svg\" height=\"24px\"viewBox=\"0 0 24 24\"\n",
              "       width=\"24px\">\n",
              "    <path d=\"M0 0h24v24H0V0z\" fill=\"none\"/>\n",
              "    <path d=\"M18.56 5.44l.94 2.06.94-2.06 2.06-.94-2.06-.94-.94-2.06-.94 2.06-2.06.94zm-11 1L8.5 8.5l.94-2.06 2.06-.94-2.06-.94L8.5 2.5l-.94 2.06-2.06.94zm10 10l.94 2.06.94-2.06 2.06-.94-2.06-.94-.94-2.06-.94 2.06-2.06.94z\"/><path d=\"M17.41 7.96l-1.37-1.37c-.4-.4-.92-.59-1.43-.59-.52 0-1.04.2-1.43.59L10.3 9.45l-7.72 7.72c-.78.78-.78 2.05 0 2.83L4 21.41c.39.39.9.59 1.41.59.51 0 1.02-.2 1.41-.59l7.78-7.78 2.81-2.81c.8-.78.8-2.07 0-2.86zM5.41 20L4 18.59l7.72-7.72 1.47 1.35L5.41 20z\"/>\n",
              "  </svg>\n",
              "      </button>\n",
              "      \n",
              "  <style>\n",
              "    .colab-df-container {\n",
              "      display:flex;\n",
              "      flex-wrap:wrap;\n",
              "      gap: 12px;\n",
              "    }\n",
              "\n",
              "    .colab-df-convert {\n",
              "      background-color: #E8F0FE;\n",
              "      border: none;\n",
              "      border-radius: 50%;\n",
              "      cursor: pointer;\n",
              "      display: none;\n",
              "      fill: #1967D2;\n",
              "      height: 32px;\n",
              "      padding: 0 0 0 0;\n",
              "      width: 32px;\n",
              "    }\n",
              "\n",
              "    .colab-df-convert:hover {\n",
              "      background-color: #E2EBFA;\n",
              "      box-shadow: 0px 1px 2px rgba(60, 64, 67, 0.3), 0px 1px 3px 1px rgba(60, 64, 67, 0.15);\n",
              "      fill: #174EA6;\n",
              "    }\n",
              "\n",
              "    [theme=dark] .colab-df-convert {\n",
              "      background-color: #3B4455;\n",
              "      fill: #D2E3FC;\n",
              "    }\n",
              "\n",
              "    [theme=dark] .colab-df-convert:hover {\n",
              "      background-color: #434B5C;\n",
              "      box-shadow: 0px 1px 3px 1px rgba(0, 0, 0, 0.15);\n",
              "      filter: drop-shadow(0px 1px 2px rgba(0, 0, 0, 0.3));\n",
              "      fill: #FFFFFF;\n",
              "    }\n",
              "  </style>\n",
              "\n",
              "      <script>\n",
              "        const buttonEl =\n",
              "          document.querySelector('#df-a4682994-8a23-4c66-8b23-4c6709b4248e button.colab-df-convert');\n",
              "        buttonEl.style.display =\n",
              "          google.colab.kernel.accessAllowed ? 'block' : 'none';\n",
              "\n",
              "        async function convertToInteractive(key) {\n",
              "          const element = document.querySelector('#df-a4682994-8a23-4c66-8b23-4c6709b4248e');\n",
              "          const dataTable =\n",
              "            await google.colab.kernel.invokeFunction('convertToInteractive',\n",
              "                                                     [key], {});\n",
              "          if (!dataTable) return;\n",
              "\n",
              "          const docLinkHtml = 'Like what you see? Visit the ' +\n",
              "            '<a target=\"_blank\" href=https://colab.research.google.com/notebooks/data_table.ipynb>data table notebook</a>'\n",
              "            + ' to learn more about interactive tables.';\n",
              "          element.innerHTML = '';\n",
              "          dataTable['output_type'] = 'display_data';\n",
              "          await google.colab.output.renderOutput(dataTable, element);\n",
              "          const docLink = document.createElement('div');\n",
              "          docLink.innerHTML = docLinkHtml;\n",
              "          element.appendChild(docLink);\n",
              "        }\n",
              "      </script>\n",
              "    </div>\n",
              "  </div>\n",
              "  "
            ]
          },
          "metadata": {},
          "execution_count": 12
        }
      ]
    },
    {
      "cell_type": "markdown",
      "source": [
        "Select target (target ChEMBL ID)"
      ],
      "metadata": {
        "id": "AJvUIk_3smtN"
      }
    },
    {
      "cell_type": "code",
      "source": [
        "target = targets.iloc[1] \n",
        "target"
      ],
      "metadata": {
        "colab": {
          "base_uri": "https://localhost:8080/"
        },
        "id": "SN_5X4ebsy5A",
        "outputId": "ffa1eddd-8d2c-4942-9597-cc4eea7e60bc"
      },
      "execution_count": 13,
      "outputs": [
        {
          "output_type": "execute_result",
          "data": {
            "text/plain": [
              "organism                     SARS coronavirus\n",
              "pref_name           Replicase polyprotein 1ab\n",
              "target_chembl_id                   CHEMBL5118\n",
              "target_type                    SINGLE PROTEIN\n",
              "Name: 1, dtype: object"
            ]
          },
          "metadata": {},
          "execution_count": 13
        }
      ]
    },
    {
      "cell_type": "markdown",
      "source": [
        "Save selected ChEMBL ID"
      ],
      "metadata": {
        "id": "Pes1wUiktwBi"
      }
    },
    {
      "cell_type": "code",
      "source": [
        "chembl_id = target.target_chembl_id\n",
        "print(f\"The target ChEMBL ID is {chembl_id}\")\n",
        "# NBVAL_CHECK_OUTPUT"
      ],
      "metadata": {
        "colab": {
          "base_uri": "https://localhost:8080/"
        },
        "id": "SdyJsOgytvmr",
        "outputId": "cf6f6ed8-fa9b-4001-8a6c-b56097eeb47d"
      },
      "execution_count": 14,
      "outputs": [
        {
          "output_type": "stream",
          "name": "stdout",
          "text": [
            "The target ChEMBL ID is CHEMBL5118\n"
          ]
        }
      ]
    },
    {
      "cell_type": "markdown",
      "source": [
        "###**3. Get Bioactivity Data**\n",
        "\n",
        "Fetch the bioactivity data and filter according to:\n",
        "\n",
        "* human proteins\n",
        "* bioactivity type IC50,\n",
        "* exact measurements (relation '='), and\n",
        "* binding data (assay type 'B')"
      ],
      "metadata": {
        "id": "4THuHnztvDAh"
      }
    },
    {
      "cell_type": "code",
      "source": [
        "bioactivities = bioactivities_api.filter(\n",
        "    target_chembl_id=chembl_id, type=\"IC50\", relation=\"=\", assay_type=\"B\"\n",
        ").only(\n",
        "    \"activity_id\",\n",
        "    \"assay_chembl_id\",\n",
        "    \"assay_description\",\n",
        "    \"assay_type\",\n",
        "    \"molecule_chembl_id\",\n",
        "    \"type\",\n",
        "    \"standard_units\",\n",
        "    \"relation\",\n",
        "    \"standard_value\",\n",
        "    \"target_chembl_id\",\n",
        "    \"target_organism\",\n",
        ")\n",
        "\n",
        "print(f\"Length and type of bioactivities object: {len(bioactivities)}, {type(bioactivities)}\")"
      ],
      "metadata": {
        "colab": {
          "base_uri": "https://localhost:8080/"
        },
        "id": "DzFsgcDQvFNM",
        "outputId": "901ef24e-6632-4de5-d99c-b0725fec92ba"
      },
      "execution_count": 15,
      "outputs": [
        {
          "output_type": "stream",
          "name": "stdout",
          "text": [
            "Length and type of bioactivities object: 177, <class 'chembl_webresource_client.query_set.QuerySet'>\n"
          ]
        }
      ]
    },
    {
      "cell_type": "code",
      "source": [
        "print(f\"Length and type of first element: {len(bioactivities[0])}, {type(bioactivities[0])}\")\n",
        "bioactivities[0]"
      ],
      "metadata": {
        "colab": {
          "base_uri": "https://localhost:8080/"
        },
        "id": "rX7y8aENvOjz",
        "outputId": "02ed495b-a2c4-425d-89ad-700c3c6a8546"
      },
      "execution_count": 16,
      "outputs": [
        {
          "output_type": "stream",
          "name": "stdout",
          "text": [
            "Length and type of first element: 13, <class 'dict'>\n"
          ]
        },
        {
          "output_type": "execute_result",
          "data": {
            "text/plain": [
              "{'activity_id': 1988091,\n",
              " 'assay_chembl_id': 'CHEMBL898907',\n",
              " 'assay_description': 'Inhibition of SARS-CoV 3C-like protease by FRET based microplate assay',\n",
              " 'assay_type': 'B',\n",
              " 'molecule_chembl_id': 'CHEMBL194398',\n",
              " 'relation': '=',\n",
              " 'standard_units': 'nM',\n",
              " 'standard_value': '870000.0',\n",
              " 'target_chembl_id': 'CHEMBL5118',\n",
              " 'target_organism': 'SARS coronavirus',\n",
              " 'type': 'IC50',\n",
              " 'units': 'uM',\n",
              " 'value': '870.0'}"
            ]
          },
          "metadata": {},
          "execution_count": 16
        }
      ]
    },
    {
      "cell_type": "markdown",
      "source": [
        "Download bioactivity data from ChEMBL"
      ],
      "metadata": {
        "id": "QOMXYdoxvXkp"
      }
    },
    {
      "cell_type": "code",
      "source": [
        "bioactivities_df = pd.DataFrame.from_records(bioactivities)\n",
        "print(f\"DataFrame shape: {bioactivities_df.shape}\")\n",
        "bioactivities_df.head()"
      ],
      "metadata": {
        "colab": {
          "base_uri": "https://localhost:8080/",
          "height": 461
        },
        "id": "WVnTeeM-vksh",
        "outputId": "21919d38-e3cb-4faa-ce11-d655ef47ac52"
      },
      "execution_count": 17,
      "outputs": [
        {
          "output_type": "stream",
          "name": "stdout",
          "text": [
            "DataFrame shape: (178, 13)\n"
          ]
        },
        {
          "output_type": "execute_result",
          "data": {
            "text/plain": [
              "   activity_id assay_chembl_id  \\\n",
              "0      1988091    CHEMBL898907   \n",
              "1      1988091    CHEMBL898907   \n",
              "2      1988092    CHEMBL898907   \n",
              "3      1988093    CHEMBL898907   \n",
              "4      1988094    CHEMBL898907   \n",
              "\n",
              "                                   assay_description assay_type  \\\n",
              "0  Inhibition of SARS-CoV 3C-like protease by FRE...          B   \n",
              "1  Inhibition of SARS-CoV 3C-like protease by FRE...          B   \n",
              "2  Inhibition of SARS-CoV 3C-like protease by FRE...          B   \n",
              "3  Inhibition of SARS-CoV 3C-like protease by FRE...          B   \n",
              "4  Inhibition of SARS-CoV 3C-like protease by FRE...          B   \n",
              "\n",
              "  molecule_chembl_id relation standard_units standard_value target_chembl_id  \\\n",
              "0       CHEMBL194398        =             nM       870000.0       CHEMBL5118   \n",
              "1       CHEMBL194398        =             nM       870000.0       CHEMBL5118   \n",
              "2       CHEMBL393608        =             nM       200000.0       CHEMBL5118   \n",
              "3       CHEMBL238216        =             nM       300000.0       CHEMBL5118   \n",
              "4       CHEMBL235873        =             nM        15000.0       CHEMBL5118   \n",
              "\n",
              "    target_organism  type units  value  \n",
              "0  SARS coronavirus  IC50    uM  870.0  \n",
              "1  SARS coronavirus  IC50    uM  870.0  \n",
              "2  SARS coronavirus  IC50    uM  200.0  \n",
              "3  SARS coronavirus  IC50    uM  300.0  \n",
              "4  SARS coronavirus  IC50    uM   15.0  "
            ],
            "text/html": [
              "\n",
              "  <div id=\"df-59856842-c294-46c4-9dad-e0956fc7a4fa\">\n",
              "    <div class=\"colab-df-container\">\n",
              "      <div>\n",
              "<style scoped>\n",
              "    .dataframe tbody tr th:only-of-type {\n",
              "        vertical-align: middle;\n",
              "    }\n",
              "\n",
              "    .dataframe tbody tr th {\n",
              "        vertical-align: top;\n",
              "    }\n",
              "\n",
              "    .dataframe thead th {\n",
              "        text-align: right;\n",
              "    }\n",
              "</style>\n",
              "<table border=\"1\" class=\"dataframe\">\n",
              "  <thead>\n",
              "    <tr style=\"text-align: right;\">\n",
              "      <th></th>\n",
              "      <th>activity_id</th>\n",
              "      <th>assay_chembl_id</th>\n",
              "      <th>assay_description</th>\n",
              "      <th>assay_type</th>\n",
              "      <th>molecule_chembl_id</th>\n",
              "      <th>relation</th>\n",
              "      <th>standard_units</th>\n",
              "      <th>standard_value</th>\n",
              "      <th>target_chembl_id</th>\n",
              "      <th>target_organism</th>\n",
              "      <th>type</th>\n",
              "      <th>units</th>\n",
              "      <th>value</th>\n",
              "    </tr>\n",
              "  </thead>\n",
              "  <tbody>\n",
              "    <tr>\n",
              "      <th>0</th>\n",
              "      <td>1988091</td>\n",
              "      <td>CHEMBL898907</td>\n",
              "      <td>Inhibition of SARS-CoV 3C-like protease by FRE...</td>\n",
              "      <td>B</td>\n",
              "      <td>CHEMBL194398</td>\n",
              "      <td>=</td>\n",
              "      <td>nM</td>\n",
              "      <td>870000.0</td>\n",
              "      <td>CHEMBL5118</td>\n",
              "      <td>SARS coronavirus</td>\n",
              "      <td>IC50</td>\n",
              "      <td>uM</td>\n",
              "      <td>870.0</td>\n",
              "    </tr>\n",
              "    <tr>\n",
              "      <th>1</th>\n",
              "      <td>1988091</td>\n",
              "      <td>CHEMBL898907</td>\n",
              "      <td>Inhibition of SARS-CoV 3C-like protease by FRE...</td>\n",
              "      <td>B</td>\n",
              "      <td>CHEMBL194398</td>\n",
              "      <td>=</td>\n",
              "      <td>nM</td>\n",
              "      <td>870000.0</td>\n",
              "      <td>CHEMBL5118</td>\n",
              "      <td>SARS coronavirus</td>\n",
              "      <td>IC50</td>\n",
              "      <td>uM</td>\n",
              "      <td>870.0</td>\n",
              "    </tr>\n",
              "    <tr>\n",
              "      <th>2</th>\n",
              "      <td>1988092</td>\n",
              "      <td>CHEMBL898907</td>\n",
              "      <td>Inhibition of SARS-CoV 3C-like protease by FRE...</td>\n",
              "      <td>B</td>\n",
              "      <td>CHEMBL393608</td>\n",
              "      <td>=</td>\n",
              "      <td>nM</td>\n",
              "      <td>200000.0</td>\n",
              "      <td>CHEMBL5118</td>\n",
              "      <td>SARS coronavirus</td>\n",
              "      <td>IC50</td>\n",
              "      <td>uM</td>\n",
              "      <td>200.0</td>\n",
              "    </tr>\n",
              "    <tr>\n",
              "      <th>3</th>\n",
              "      <td>1988093</td>\n",
              "      <td>CHEMBL898907</td>\n",
              "      <td>Inhibition of SARS-CoV 3C-like protease by FRE...</td>\n",
              "      <td>B</td>\n",
              "      <td>CHEMBL238216</td>\n",
              "      <td>=</td>\n",
              "      <td>nM</td>\n",
              "      <td>300000.0</td>\n",
              "      <td>CHEMBL5118</td>\n",
              "      <td>SARS coronavirus</td>\n",
              "      <td>IC50</td>\n",
              "      <td>uM</td>\n",
              "      <td>300.0</td>\n",
              "    </tr>\n",
              "    <tr>\n",
              "      <th>4</th>\n",
              "      <td>1988094</td>\n",
              "      <td>CHEMBL898907</td>\n",
              "      <td>Inhibition of SARS-CoV 3C-like protease by FRE...</td>\n",
              "      <td>B</td>\n",
              "      <td>CHEMBL235873</td>\n",
              "      <td>=</td>\n",
              "      <td>nM</td>\n",
              "      <td>15000.0</td>\n",
              "      <td>CHEMBL5118</td>\n",
              "      <td>SARS coronavirus</td>\n",
              "      <td>IC50</td>\n",
              "      <td>uM</td>\n",
              "      <td>15.0</td>\n",
              "    </tr>\n",
              "  </tbody>\n",
              "</table>\n",
              "</div>\n",
              "      <button class=\"colab-df-convert\" onclick=\"convertToInteractive('df-59856842-c294-46c4-9dad-e0956fc7a4fa')\"\n",
              "              title=\"Convert this dataframe to an interactive table.\"\n",
              "              style=\"display:none;\">\n",
              "        \n",
              "  <svg xmlns=\"http://www.w3.org/2000/svg\" height=\"24px\"viewBox=\"0 0 24 24\"\n",
              "       width=\"24px\">\n",
              "    <path d=\"M0 0h24v24H0V0z\" fill=\"none\"/>\n",
              "    <path d=\"M18.56 5.44l.94 2.06.94-2.06 2.06-.94-2.06-.94-.94-2.06-.94 2.06-2.06.94zm-11 1L8.5 8.5l.94-2.06 2.06-.94-2.06-.94L8.5 2.5l-.94 2.06-2.06.94zm10 10l.94 2.06.94-2.06 2.06-.94-2.06-.94-.94-2.06-.94 2.06-2.06.94z\"/><path d=\"M17.41 7.96l-1.37-1.37c-.4-.4-.92-.59-1.43-.59-.52 0-1.04.2-1.43.59L10.3 9.45l-7.72 7.72c-.78.78-.78 2.05 0 2.83L4 21.41c.39.39.9.59 1.41.59.51 0 1.02-.2 1.41-.59l7.78-7.78 2.81-2.81c.8-.78.8-2.07 0-2.86zM5.41 20L4 18.59l7.72-7.72 1.47 1.35L5.41 20z\"/>\n",
              "  </svg>\n",
              "      </button>\n",
              "      \n",
              "  <style>\n",
              "    .colab-df-container {\n",
              "      display:flex;\n",
              "      flex-wrap:wrap;\n",
              "      gap: 12px;\n",
              "    }\n",
              "\n",
              "    .colab-df-convert {\n",
              "      background-color: #E8F0FE;\n",
              "      border: none;\n",
              "      border-radius: 50%;\n",
              "      cursor: pointer;\n",
              "      display: none;\n",
              "      fill: #1967D2;\n",
              "      height: 32px;\n",
              "      padding: 0 0 0 0;\n",
              "      width: 32px;\n",
              "    }\n",
              "\n",
              "    .colab-df-convert:hover {\n",
              "      background-color: #E2EBFA;\n",
              "      box-shadow: 0px 1px 2px rgba(60, 64, 67, 0.3), 0px 1px 3px 1px rgba(60, 64, 67, 0.15);\n",
              "      fill: #174EA6;\n",
              "    }\n",
              "\n",
              "    [theme=dark] .colab-df-convert {\n",
              "      background-color: #3B4455;\n",
              "      fill: #D2E3FC;\n",
              "    }\n",
              "\n",
              "    [theme=dark] .colab-df-convert:hover {\n",
              "      background-color: #434B5C;\n",
              "      box-shadow: 0px 1px 3px 1px rgba(0, 0, 0, 0.15);\n",
              "      filter: drop-shadow(0px 1px 2px rgba(0, 0, 0, 0.3));\n",
              "      fill: #FFFFFF;\n",
              "    }\n",
              "  </style>\n",
              "\n",
              "      <script>\n",
              "        const buttonEl =\n",
              "          document.querySelector('#df-59856842-c294-46c4-9dad-e0956fc7a4fa button.colab-df-convert');\n",
              "        buttonEl.style.display =\n",
              "          google.colab.kernel.accessAllowed ? 'block' : 'none';\n",
              "\n",
              "        async function convertToInteractive(key) {\n",
              "          const element = document.querySelector('#df-59856842-c294-46c4-9dad-e0956fc7a4fa');\n",
              "          const dataTable =\n",
              "            await google.colab.kernel.invokeFunction('convertToInteractive',\n",
              "                                                     [key], {});\n",
              "          if (!dataTable) return;\n",
              "\n",
              "          const docLinkHtml = 'Like what you see? Visit the ' +\n",
              "            '<a target=\"_blank\" href=https://colab.research.google.com/notebooks/data_table.ipynb>data table notebook</a>'\n",
              "            + ' to learn more about interactive tables.';\n",
              "          element.innerHTML = '';\n",
              "          dataTable['output_type'] = 'display_data';\n",
              "          await google.colab.output.renderOutput(dataTable, element);\n",
              "          const docLink = document.createElement('div');\n",
              "          docLink.innerHTML = docLinkHtml;\n",
              "          element.appendChild(docLink);\n",
              "        }\n",
              "      </script>\n",
              "    </div>\n",
              "  </div>\n",
              "  "
            ]
          },
          "metadata": {},
          "execution_count": 17
        }
      ]
    },
    {
      "cell_type": "code",
      "source": [
        "bioactivities_df.columns"
      ],
      "metadata": {
        "colab": {
          "base_uri": "https://localhost:8080/"
        },
        "id": "ZMrEI-EvvrNx",
        "outputId": "9129663a-465a-49d2-fa4f-4da122a6c95b"
      },
      "execution_count": 18,
      "outputs": [
        {
          "output_type": "execute_result",
          "data": {
            "text/plain": [
              "Index(['activity_id', 'assay_chembl_id', 'assay_description', 'assay_type',\n",
              "       'molecule_chembl_id', 'relation', 'standard_units', 'standard_value',\n",
              "       'target_chembl_id', 'target_organism', 'type', 'units', 'value'],\n",
              "      dtype='object')"
            ]
          },
          "metadata": {},
          "execution_count": 18
        }
      ]
    },
    {
      "cell_type": "code",
      "source": [
        "bioactivities_df[\"units\"].unique()"
      ],
      "metadata": {
        "colab": {
          "base_uri": "https://localhost:8080/"
        },
        "id": "p2Z7xcKFvvZ4",
        "outputId": "b62ee14c-19d2-4cf2-93a0-e643414ce40a"
      },
      "execution_count": 19,
      "outputs": [
        {
          "output_type": "execute_result",
          "data": {
            "text/plain": [
              "array(['uM'], dtype=object)"
            ]
          },
          "metadata": {},
          "execution_count": 19
        }
      ]
    },
    {
      "cell_type": "code",
      "source": [
        "bioactivities_df.drop([\"units\", \"value\"], axis=1, inplace=True)\n",
        "bioactivities_df.head()"
      ],
      "metadata": {
        "colab": {
          "base_uri": "https://localhost:8080/",
          "height": 444
        },
        "id": "Q7ToLtrIvy-q",
        "outputId": "e21abb8e-3dcd-4cc9-f492-ea8659731cad"
      },
      "execution_count": 20,
      "outputs": [
        {
          "output_type": "execute_result",
          "data": {
            "text/plain": [
              "   activity_id assay_chembl_id  \\\n",
              "0      1988091    CHEMBL898907   \n",
              "1      1988091    CHEMBL898907   \n",
              "2      1988092    CHEMBL898907   \n",
              "3      1988093    CHEMBL898907   \n",
              "4      1988094    CHEMBL898907   \n",
              "\n",
              "                                   assay_description assay_type  \\\n",
              "0  Inhibition of SARS-CoV 3C-like protease by FRE...          B   \n",
              "1  Inhibition of SARS-CoV 3C-like protease by FRE...          B   \n",
              "2  Inhibition of SARS-CoV 3C-like protease by FRE...          B   \n",
              "3  Inhibition of SARS-CoV 3C-like protease by FRE...          B   \n",
              "4  Inhibition of SARS-CoV 3C-like protease by FRE...          B   \n",
              "\n",
              "  molecule_chembl_id relation standard_units standard_value target_chembl_id  \\\n",
              "0       CHEMBL194398        =             nM       870000.0       CHEMBL5118   \n",
              "1       CHEMBL194398        =             nM       870000.0       CHEMBL5118   \n",
              "2       CHEMBL393608        =             nM       200000.0       CHEMBL5118   \n",
              "3       CHEMBL238216        =             nM       300000.0       CHEMBL5118   \n",
              "4       CHEMBL235873        =             nM        15000.0       CHEMBL5118   \n",
              "\n",
              "    target_organism  type  \n",
              "0  SARS coronavirus  IC50  \n",
              "1  SARS coronavirus  IC50  \n",
              "2  SARS coronavirus  IC50  \n",
              "3  SARS coronavirus  IC50  \n",
              "4  SARS coronavirus  IC50  "
            ],
            "text/html": [
              "\n",
              "  <div id=\"df-41f80b0b-1846-409e-865b-3f00d0734ed5\">\n",
              "    <div class=\"colab-df-container\">\n",
              "      <div>\n",
              "<style scoped>\n",
              "    .dataframe tbody tr th:only-of-type {\n",
              "        vertical-align: middle;\n",
              "    }\n",
              "\n",
              "    .dataframe tbody tr th {\n",
              "        vertical-align: top;\n",
              "    }\n",
              "\n",
              "    .dataframe thead th {\n",
              "        text-align: right;\n",
              "    }\n",
              "</style>\n",
              "<table border=\"1\" class=\"dataframe\">\n",
              "  <thead>\n",
              "    <tr style=\"text-align: right;\">\n",
              "      <th></th>\n",
              "      <th>activity_id</th>\n",
              "      <th>assay_chembl_id</th>\n",
              "      <th>assay_description</th>\n",
              "      <th>assay_type</th>\n",
              "      <th>molecule_chembl_id</th>\n",
              "      <th>relation</th>\n",
              "      <th>standard_units</th>\n",
              "      <th>standard_value</th>\n",
              "      <th>target_chembl_id</th>\n",
              "      <th>target_organism</th>\n",
              "      <th>type</th>\n",
              "    </tr>\n",
              "  </thead>\n",
              "  <tbody>\n",
              "    <tr>\n",
              "      <th>0</th>\n",
              "      <td>1988091</td>\n",
              "      <td>CHEMBL898907</td>\n",
              "      <td>Inhibition of SARS-CoV 3C-like protease by FRE...</td>\n",
              "      <td>B</td>\n",
              "      <td>CHEMBL194398</td>\n",
              "      <td>=</td>\n",
              "      <td>nM</td>\n",
              "      <td>870000.0</td>\n",
              "      <td>CHEMBL5118</td>\n",
              "      <td>SARS coronavirus</td>\n",
              "      <td>IC50</td>\n",
              "    </tr>\n",
              "    <tr>\n",
              "      <th>1</th>\n",
              "      <td>1988091</td>\n",
              "      <td>CHEMBL898907</td>\n",
              "      <td>Inhibition of SARS-CoV 3C-like protease by FRE...</td>\n",
              "      <td>B</td>\n",
              "      <td>CHEMBL194398</td>\n",
              "      <td>=</td>\n",
              "      <td>nM</td>\n",
              "      <td>870000.0</td>\n",
              "      <td>CHEMBL5118</td>\n",
              "      <td>SARS coronavirus</td>\n",
              "      <td>IC50</td>\n",
              "    </tr>\n",
              "    <tr>\n",
              "      <th>2</th>\n",
              "      <td>1988092</td>\n",
              "      <td>CHEMBL898907</td>\n",
              "      <td>Inhibition of SARS-CoV 3C-like protease by FRE...</td>\n",
              "      <td>B</td>\n",
              "      <td>CHEMBL393608</td>\n",
              "      <td>=</td>\n",
              "      <td>nM</td>\n",
              "      <td>200000.0</td>\n",
              "      <td>CHEMBL5118</td>\n",
              "      <td>SARS coronavirus</td>\n",
              "      <td>IC50</td>\n",
              "    </tr>\n",
              "    <tr>\n",
              "      <th>3</th>\n",
              "      <td>1988093</td>\n",
              "      <td>CHEMBL898907</td>\n",
              "      <td>Inhibition of SARS-CoV 3C-like protease by FRE...</td>\n",
              "      <td>B</td>\n",
              "      <td>CHEMBL238216</td>\n",
              "      <td>=</td>\n",
              "      <td>nM</td>\n",
              "      <td>300000.0</td>\n",
              "      <td>CHEMBL5118</td>\n",
              "      <td>SARS coronavirus</td>\n",
              "      <td>IC50</td>\n",
              "    </tr>\n",
              "    <tr>\n",
              "      <th>4</th>\n",
              "      <td>1988094</td>\n",
              "      <td>CHEMBL898907</td>\n",
              "      <td>Inhibition of SARS-CoV 3C-like protease by FRE...</td>\n",
              "      <td>B</td>\n",
              "      <td>CHEMBL235873</td>\n",
              "      <td>=</td>\n",
              "      <td>nM</td>\n",
              "      <td>15000.0</td>\n",
              "      <td>CHEMBL5118</td>\n",
              "      <td>SARS coronavirus</td>\n",
              "      <td>IC50</td>\n",
              "    </tr>\n",
              "  </tbody>\n",
              "</table>\n",
              "</div>\n",
              "      <button class=\"colab-df-convert\" onclick=\"convertToInteractive('df-41f80b0b-1846-409e-865b-3f00d0734ed5')\"\n",
              "              title=\"Convert this dataframe to an interactive table.\"\n",
              "              style=\"display:none;\">\n",
              "        \n",
              "  <svg xmlns=\"http://www.w3.org/2000/svg\" height=\"24px\"viewBox=\"0 0 24 24\"\n",
              "       width=\"24px\">\n",
              "    <path d=\"M0 0h24v24H0V0z\" fill=\"none\"/>\n",
              "    <path d=\"M18.56 5.44l.94 2.06.94-2.06 2.06-.94-2.06-.94-.94-2.06-.94 2.06-2.06.94zm-11 1L8.5 8.5l.94-2.06 2.06-.94-2.06-.94L8.5 2.5l-.94 2.06-2.06.94zm10 10l.94 2.06.94-2.06 2.06-.94-2.06-.94-.94-2.06-.94 2.06-2.06.94z\"/><path d=\"M17.41 7.96l-1.37-1.37c-.4-.4-.92-.59-1.43-.59-.52 0-1.04.2-1.43.59L10.3 9.45l-7.72 7.72c-.78.78-.78 2.05 0 2.83L4 21.41c.39.39.9.59 1.41.59.51 0 1.02-.2 1.41-.59l7.78-7.78 2.81-2.81c.8-.78.8-2.07 0-2.86zM5.41 20L4 18.59l7.72-7.72 1.47 1.35L5.41 20z\"/>\n",
              "  </svg>\n",
              "      </button>\n",
              "      \n",
              "  <style>\n",
              "    .colab-df-container {\n",
              "      display:flex;\n",
              "      flex-wrap:wrap;\n",
              "      gap: 12px;\n",
              "    }\n",
              "\n",
              "    .colab-df-convert {\n",
              "      background-color: #E8F0FE;\n",
              "      border: none;\n",
              "      border-radius: 50%;\n",
              "      cursor: pointer;\n",
              "      display: none;\n",
              "      fill: #1967D2;\n",
              "      height: 32px;\n",
              "      padding: 0 0 0 0;\n",
              "      width: 32px;\n",
              "    }\n",
              "\n",
              "    .colab-df-convert:hover {\n",
              "      background-color: #E2EBFA;\n",
              "      box-shadow: 0px 1px 2px rgba(60, 64, 67, 0.3), 0px 1px 3px 1px rgba(60, 64, 67, 0.15);\n",
              "      fill: #174EA6;\n",
              "    }\n",
              "\n",
              "    [theme=dark] .colab-df-convert {\n",
              "      background-color: #3B4455;\n",
              "      fill: #D2E3FC;\n",
              "    }\n",
              "\n",
              "    [theme=dark] .colab-df-convert:hover {\n",
              "      background-color: #434B5C;\n",
              "      box-shadow: 0px 1px 3px 1px rgba(0, 0, 0, 0.15);\n",
              "      filter: drop-shadow(0px 1px 2px rgba(0, 0, 0, 0.3));\n",
              "      fill: #FFFFFF;\n",
              "    }\n",
              "  </style>\n",
              "\n",
              "      <script>\n",
              "        const buttonEl =\n",
              "          document.querySelector('#df-41f80b0b-1846-409e-865b-3f00d0734ed5 button.colab-df-convert');\n",
              "        buttonEl.style.display =\n",
              "          google.colab.kernel.accessAllowed ? 'block' : 'none';\n",
              "\n",
              "        async function convertToInteractive(key) {\n",
              "          const element = document.querySelector('#df-41f80b0b-1846-409e-865b-3f00d0734ed5');\n",
              "          const dataTable =\n",
              "            await google.colab.kernel.invokeFunction('convertToInteractive',\n",
              "                                                     [key], {});\n",
              "          if (!dataTable) return;\n",
              "\n",
              "          const docLinkHtml = 'Like what you see? Visit the ' +\n",
              "            '<a target=\"_blank\" href=https://colab.research.google.com/notebooks/data_table.ipynb>data table notebook</a>'\n",
              "            + ' to learn more about interactive tables.';\n",
              "          element.innerHTML = '';\n",
              "          dataTable['output_type'] = 'display_data';\n",
              "          await google.colab.output.renderOutput(dataTable, element);\n",
              "          const docLink = document.createElement('div');\n",
              "          docLink.innerHTML = docLinkHtml;\n",
              "          element.appendChild(docLink);\n",
              "        }\n",
              "      </script>\n",
              "    </div>\n",
              "  </div>\n",
              "  "
            ]
          },
          "metadata": {},
          "execution_count": 20
        }
      ]
    },
    {
      "cell_type": "markdown",
      "source": [
        "**Preprocess and filter bioactivity data**:\n",
        "\n",
        "1. Convert standard_value’s datatype from object to float\n",
        "2. Delete entries with missing values\n",
        "3. Keep only entries with standard_unit == nM\n",
        "4. Delete duplicate molecules\n",
        "5. Reset DataFrame index\n",
        "6. Rename columns\n",
        "\n",
        "\n",
        "**1. Convert datatype of “standard_value” from “object” to “float”**\n",
        "\n",
        "The field standard_value holds standardized (here IC50) values. In order to make these values usable in calculations later on, convert values to floats."
      ],
      "metadata": {
        "id": "K7GIRRGWv6aI"
      }
    },
    {
      "cell_type": "code",
      "source": [
        "bioactivities_df.dtypes"
      ],
      "metadata": {
        "colab": {
          "base_uri": "https://localhost:8080/"
        },
        "id": "Z3PednByv_wI",
        "outputId": "5ad71888-ddbb-4143-85ef-427ebd91fe1a"
      },
      "execution_count": 21,
      "outputs": [
        {
          "output_type": "execute_result",
          "data": {
            "text/plain": [
              "activity_id            int64\n",
              "assay_chembl_id       object\n",
              "assay_description     object\n",
              "assay_type            object\n",
              "molecule_chembl_id    object\n",
              "relation              object\n",
              "standard_units        object\n",
              "standard_value        object\n",
              "target_chembl_id      object\n",
              "target_organism       object\n",
              "type                  object\n",
              "dtype: object"
            ]
          },
          "metadata": {},
          "execution_count": 21
        }
      ]
    },
    {
      "cell_type": "code",
      "source": [
        "bioactivities_df = bioactivities_df.astype({\"standard_value\": \"float64\"})\n",
        "bioactivities_df.dtypes"
      ],
      "metadata": {
        "colab": {
          "base_uri": "https://localhost:8080/"
        },
        "id": "5ZsaUKO9wDC4",
        "outputId": "7bfe1d85-79f8-4f63-cef6-c92934597a52"
      },
      "execution_count": 22,
      "outputs": [
        {
          "output_type": "execute_result",
          "data": {
            "text/plain": [
              "activity_id             int64\n",
              "assay_chembl_id        object\n",
              "assay_description      object\n",
              "assay_type             object\n",
              "molecule_chembl_id     object\n",
              "relation               object\n",
              "standard_units         object\n",
              "standard_value        float64\n",
              "target_chembl_id       object\n",
              "target_organism        object\n",
              "type                   object\n",
              "dtype: object"
            ]
          },
          "metadata": {},
          "execution_count": 22
        }
      ]
    },
    {
      "cell_type": "markdown",
      "source": [
        "**2. Delete entries with missing values**"
      ],
      "metadata": {
        "id": "z-TdC5XAwGys"
      }
    },
    {
      "cell_type": "code",
      "source": [
        "bioactivities_df.dropna(axis=0, how=\"any\", inplace=True)\n",
        "print(f\"DataFrame shape: {bioactivities_df.shape}\")"
      ],
      "metadata": {
        "colab": {
          "base_uri": "https://localhost:8080/"
        },
        "id": "l6yt58E7wh5m",
        "outputId": "009e7c7c-b8a5-4985-f30d-30480c2204de"
      },
      "execution_count": 23,
      "outputs": [
        {
          "output_type": "stream",
          "name": "stdout",
          "text": [
            "DataFrame shape: (178, 11)\n"
          ]
        }
      ]
    },
    {
      "cell_type": "markdown",
      "source": [
        "**3. Keep only entries with “standard_unit == nM”**"
      ],
      "metadata": {
        "id": "x1bWOKovwnuo"
      }
    },
    {
      "cell_type": "code",
      "source": [
        "print(f\"Units in downloaded data: {bioactivities_df['standard_units'].unique()}\")\n",
        "print(\n",
        "    f\"Number of non-nM entries:\\\n",
        "    {bioactivities_df[bioactivities_df['standard_units'] != 'nM'].shape[0]}\"\n",
        ")"
      ],
      "metadata": {
        "colab": {
          "base_uri": "https://localhost:8080/"
        },
        "id": "7Ixxpt4xw437",
        "outputId": "1ecbc393-a8c9-4bff-f9b4-de2b5016019c"
      },
      "execution_count": 24,
      "outputs": [
        {
          "output_type": "stream",
          "name": "stdout",
          "text": [
            "Units in downloaded data: ['nM']\n",
            "Number of non-nM entries:    0\n"
          ]
        }
      ]
    },
    {
      "cell_type": "code",
      "source": [
        "bioactivities_df = bioactivities_df[bioactivities_df[\"standard_units\"] == \"nM\"]\n",
        "print(f\"Units after filtering: {bioactivities_df['standard_units'].unique()}\")"
      ],
      "metadata": {
        "colab": {
          "base_uri": "https://localhost:8080/"
        },
        "id": "6xc5iYTpw99L",
        "outputId": "bca9d694-7cb4-4a5b-fa8a-85fea3eafb51"
      },
      "execution_count": 25,
      "outputs": [
        {
          "output_type": "stream",
          "name": "stdout",
          "text": [
            "Units after filtering: ['nM']\n"
          ]
        }
      ]
    },
    {
      "cell_type": "code",
      "source": [
        "print(f\"DataFrame shape: {bioactivities_df.shape}\")"
      ],
      "metadata": {
        "colab": {
          "base_uri": "https://localhost:8080/"
        },
        "id": "qP7muGSSxB9i",
        "outputId": "e233b088-c343-4e95-ef87-663b5f12fb83"
      },
      "execution_count": 26,
      "outputs": [
        {
          "output_type": "stream",
          "name": "stdout",
          "text": [
            "DataFrame shape: (178, 11)\n"
          ]
        }
      ]
    },
    {
      "cell_type": "markdown",
      "source": [
        "**4. Delete duplicate molecules**"
      ],
      "metadata": {
        "id": "J0iQ8iGPxHy1"
      }
    },
    {
      "cell_type": "code",
      "source": [
        "bioactivities_df.drop_duplicates(\"molecule_chembl_id\", keep=\"first\", inplace=True)\n",
        "print(f\"DataFrame shape: {bioactivities_df.shape}\")"
      ],
      "metadata": {
        "colab": {
          "base_uri": "https://localhost:8080/"
        },
        "id": "SYk8Kq42xJr2",
        "outputId": "363a14cf-e977-47a2-fd82-eddca8452e30"
      },
      "execution_count": 27,
      "outputs": [
        {
          "output_type": "stream",
          "name": "stdout",
          "text": [
            "DataFrame shape: (152, 11)\n"
          ]
        }
      ]
    },
    {
      "cell_type": "markdown",
      "source": [
        "**5. Reset “DataFrame” index**"
      ],
      "metadata": {
        "id": "2a0tGFryxTjD"
      }
    },
    {
      "cell_type": "code",
      "source": [
        "bioactivities_df.reset_index(drop=True, inplace=True)\n",
        "bioactivities_df.head()"
      ],
      "metadata": {
        "colab": {
          "base_uri": "https://localhost:8080/",
          "height": 444
        },
        "id": "sOwpkW8HxTC_",
        "outputId": "3c3fca58-2513-4b04-e384-6ef6e867505a"
      },
      "execution_count": 28,
      "outputs": [
        {
          "output_type": "execute_result",
          "data": {
            "text/plain": [
              "   activity_id assay_chembl_id  \\\n",
              "0      1988091    CHEMBL898907   \n",
              "1      1988092    CHEMBL898907   \n",
              "2      1988093    CHEMBL898907   \n",
              "3      1988094    CHEMBL898907   \n",
              "4      1988095    CHEMBL898907   \n",
              "\n",
              "                                   assay_description assay_type  \\\n",
              "0  Inhibition of SARS-CoV 3C-like protease by FRE...          B   \n",
              "1  Inhibition of SARS-CoV 3C-like protease by FRE...          B   \n",
              "2  Inhibition of SARS-CoV 3C-like protease by FRE...          B   \n",
              "3  Inhibition of SARS-CoV 3C-like protease by FRE...          B   \n",
              "4  Inhibition of SARS-CoV 3C-like protease by FRE...          B   \n",
              "\n",
              "  molecule_chembl_id relation standard_units  standard_value target_chembl_id  \\\n",
              "0       CHEMBL194398        =             nM        870000.0       CHEMBL5118   \n",
              "1       CHEMBL393608        =             nM        200000.0       CHEMBL5118   \n",
              "2       CHEMBL238216        =             nM        300000.0       CHEMBL5118   \n",
              "3       CHEMBL235873        =             nM         15000.0       CHEMBL5118   \n",
              "4       CHEMBL397154        =             nM         10000.0       CHEMBL5118   \n",
              "\n",
              "    target_organism  type  \n",
              "0  SARS coronavirus  IC50  \n",
              "1  SARS coronavirus  IC50  \n",
              "2  SARS coronavirus  IC50  \n",
              "3  SARS coronavirus  IC50  \n",
              "4  SARS coronavirus  IC50  "
            ],
            "text/html": [
              "\n",
              "  <div id=\"df-4d9ff6b3-f422-41fd-8898-64bcc8761d6a\">\n",
              "    <div class=\"colab-df-container\">\n",
              "      <div>\n",
              "<style scoped>\n",
              "    .dataframe tbody tr th:only-of-type {\n",
              "        vertical-align: middle;\n",
              "    }\n",
              "\n",
              "    .dataframe tbody tr th {\n",
              "        vertical-align: top;\n",
              "    }\n",
              "\n",
              "    .dataframe thead th {\n",
              "        text-align: right;\n",
              "    }\n",
              "</style>\n",
              "<table border=\"1\" class=\"dataframe\">\n",
              "  <thead>\n",
              "    <tr style=\"text-align: right;\">\n",
              "      <th></th>\n",
              "      <th>activity_id</th>\n",
              "      <th>assay_chembl_id</th>\n",
              "      <th>assay_description</th>\n",
              "      <th>assay_type</th>\n",
              "      <th>molecule_chembl_id</th>\n",
              "      <th>relation</th>\n",
              "      <th>standard_units</th>\n",
              "      <th>standard_value</th>\n",
              "      <th>target_chembl_id</th>\n",
              "      <th>target_organism</th>\n",
              "      <th>type</th>\n",
              "    </tr>\n",
              "  </thead>\n",
              "  <tbody>\n",
              "    <tr>\n",
              "      <th>0</th>\n",
              "      <td>1988091</td>\n",
              "      <td>CHEMBL898907</td>\n",
              "      <td>Inhibition of SARS-CoV 3C-like protease by FRE...</td>\n",
              "      <td>B</td>\n",
              "      <td>CHEMBL194398</td>\n",
              "      <td>=</td>\n",
              "      <td>nM</td>\n",
              "      <td>870000.0</td>\n",
              "      <td>CHEMBL5118</td>\n",
              "      <td>SARS coronavirus</td>\n",
              "      <td>IC50</td>\n",
              "    </tr>\n",
              "    <tr>\n",
              "      <th>1</th>\n",
              "      <td>1988092</td>\n",
              "      <td>CHEMBL898907</td>\n",
              "      <td>Inhibition of SARS-CoV 3C-like protease by FRE...</td>\n",
              "      <td>B</td>\n",
              "      <td>CHEMBL393608</td>\n",
              "      <td>=</td>\n",
              "      <td>nM</td>\n",
              "      <td>200000.0</td>\n",
              "      <td>CHEMBL5118</td>\n",
              "      <td>SARS coronavirus</td>\n",
              "      <td>IC50</td>\n",
              "    </tr>\n",
              "    <tr>\n",
              "      <th>2</th>\n",
              "      <td>1988093</td>\n",
              "      <td>CHEMBL898907</td>\n",
              "      <td>Inhibition of SARS-CoV 3C-like protease by FRE...</td>\n",
              "      <td>B</td>\n",
              "      <td>CHEMBL238216</td>\n",
              "      <td>=</td>\n",
              "      <td>nM</td>\n",
              "      <td>300000.0</td>\n",
              "      <td>CHEMBL5118</td>\n",
              "      <td>SARS coronavirus</td>\n",
              "      <td>IC50</td>\n",
              "    </tr>\n",
              "    <tr>\n",
              "      <th>3</th>\n",
              "      <td>1988094</td>\n",
              "      <td>CHEMBL898907</td>\n",
              "      <td>Inhibition of SARS-CoV 3C-like protease by FRE...</td>\n",
              "      <td>B</td>\n",
              "      <td>CHEMBL235873</td>\n",
              "      <td>=</td>\n",
              "      <td>nM</td>\n",
              "      <td>15000.0</td>\n",
              "      <td>CHEMBL5118</td>\n",
              "      <td>SARS coronavirus</td>\n",
              "      <td>IC50</td>\n",
              "    </tr>\n",
              "    <tr>\n",
              "      <th>4</th>\n",
              "      <td>1988095</td>\n",
              "      <td>CHEMBL898907</td>\n",
              "      <td>Inhibition of SARS-CoV 3C-like protease by FRE...</td>\n",
              "      <td>B</td>\n",
              "      <td>CHEMBL397154</td>\n",
              "      <td>=</td>\n",
              "      <td>nM</td>\n",
              "      <td>10000.0</td>\n",
              "      <td>CHEMBL5118</td>\n",
              "      <td>SARS coronavirus</td>\n",
              "      <td>IC50</td>\n",
              "    </tr>\n",
              "  </tbody>\n",
              "</table>\n",
              "</div>\n",
              "      <button class=\"colab-df-convert\" onclick=\"convertToInteractive('df-4d9ff6b3-f422-41fd-8898-64bcc8761d6a')\"\n",
              "              title=\"Convert this dataframe to an interactive table.\"\n",
              "              style=\"display:none;\">\n",
              "        \n",
              "  <svg xmlns=\"http://www.w3.org/2000/svg\" height=\"24px\"viewBox=\"0 0 24 24\"\n",
              "       width=\"24px\">\n",
              "    <path d=\"M0 0h24v24H0V0z\" fill=\"none\"/>\n",
              "    <path d=\"M18.56 5.44l.94 2.06.94-2.06 2.06-.94-2.06-.94-.94-2.06-.94 2.06-2.06.94zm-11 1L8.5 8.5l.94-2.06 2.06-.94-2.06-.94L8.5 2.5l-.94 2.06-2.06.94zm10 10l.94 2.06.94-2.06 2.06-.94-2.06-.94-.94-2.06-.94 2.06-2.06.94z\"/><path d=\"M17.41 7.96l-1.37-1.37c-.4-.4-.92-.59-1.43-.59-.52 0-1.04.2-1.43.59L10.3 9.45l-7.72 7.72c-.78.78-.78 2.05 0 2.83L4 21.41c.39.39.9.59 1.41.59.51 0 1.02-.2 1.41-.59l7.78-7.78 2.81-2.81c.8-.78.8-2.07 0-2.86zM5.41 20L4 18.59l7.72-7.72 1.47 1.35L5.41 20z\"/>\n",
              "  </svg>\n",
              "      </button>\n",
              "      \n",
              "  <style>\n",
              "    .colab-df-container {\n",
              "      display:flex;\n",
              "      flex-wrap:wrap;\n",
              "      gap: 12px;\n",
              "    }\n",
              "\n",
              "    .colab-df-convert {\n",
              "      background-color: #E8F0FE;\n",
              "      border: none;\n",
              "      border-radius: 50%;\n",
              "      cursor: pointer;\n",
              "      display: none;\n",
              "      fill: #1967D2;\n",
              "      height: 32px;\n",
              "      padding: 0 0 0 0;\n",
              "      width: 32px;\n",
              "    }\n",
              "\n",
              "    .colab-df-convert:hover {\n",
              "      background-color: #E2EBFA;\n",
              "      box-shadow: 0px 1px 2px rgba(60, 64, 67, 0.3), 0px 1px 3px 1px rgba(60, 64, 67, 0.15);\n",
              "      fill: #174EA6;\n",
              "    }\n",
              "\n",
              "    [theme=dark] .colab-df-convert {\n",
              "      background-color: #3B4455;\n",
              "      fill: #D2E3FC;\n",
              "    }\n",
              "\n",
              "    [theme=dark] .colab-df-convert:hover {\n",
              "      background-color: #434B5C;\n",
              "      box-shadow: 0px 1px 3px 1px rgba(0, 0, 0, 0.15);\n",
              "      filter: drop-shadow(0px 1px 2px rgba(0, 0, 0, 0.3));\n",
              "      fill: #FFFFFF;\n",
              "    }\n",
              "  </style>\n",
              "\n",
              "      <script>\n",
              "        const buttonEl =\n",
              "          document.querySelector('#df-4d9ff6b3-f422-41fd-8898-64bcc8761d6a button.colab-df-convert');\n",
              "        buttonEl.style.display =\n",
              "          google.colab.kernel.accessAllowed ? 'block' : 'none';\n",
              "\n",
              "        async function convertToInteractive(key) {\n",
              "          const element = document.querySelector('#df-4d9ff6b3-f422-41fd-8898-64bcc8761d6a');\n",
              "          const dataTable =\n",
              "            await google.colab.kernel.invokeFunction('convertToInteractive',\n",
              "                                                     [key], {});\n",
              "          if (!dataTable) return;\n",
              "\n",
              "          const docLinkHtml = 'Like what you see? Visit the ' +\n",
              "            '<a target=\"_blank\" href=https://colab.research.google.com/notebooks/data_table.ipynb>data table notebook</a>'\n",
              "            + ' to learn more about interactive tables.';\n",
              "          element.innerHTML = '';\n",
              "          dataTable['output_type'] = 'display_data';\n",
              "          await google.colab.output.renderOutput(dataTable, element);\n",
              "          const docLink = document.createElement('div');\n",
              "          docLink.innerHTML = docLinkHtml;\n",
              "          element.appendChild(docLink);\n",
              "        }\n",
              "      </script>\n",
              "    </div>\n",
              "  </div>\n",
              "  "
            ]
          },
          "metadata": {},
          "execution_count": 28
        }
      ]
    },
    {
      "cell_type": "code",
      "source": [
        "bioactivities_df.columns"
      ],
      "metadata": {
        "colab": {
          "base_uri": "https://localhost:8080/"
        },
        "id": "aizNsek_xfPQ",
        "outputId": "c32d76ad-63f4-4845-bcf6-0f26c8d8ea43"
      },
      "execution_count": 29,
      "outputs": [
        {
          "output_type": "execute_result",
          "data": {
            "text/plain": [
              "Index(['activity_id', 'assay_chembl_id', 'assay_description', 'assay_type',\n",
              "       'molecule_chembl_id', 'relation', 'standard_units', 'standard_value',\n",
              "       'target_chembl_id', 'target_organism', 'type'],\n",
              "      dtype='object')"
            ]
          },
          "metadata": {},
          "execution_count": 29
        }
      ]
    },
    {
      "cell_type": "markdown",
      "source": [
        "**6. Rename columns**"
      ],
      "metadata": {
        "id": "UW5p6I7yxtiz"
      }
    },
    {
      "cell_type": "code",
      "source": [
        "bioactivities_df.rename(\n",
        "    columns={\"standard_value\": \"IC50\", \"standard_units\": \"units\"}, inplace=True\n",
        ")\n",
        "bioactivities_df.head()"
      ],
      "metadata": {
        "colab": {
          "base_uri": "https://localhost:8080/",
          "height": 337
        },
        "id": "bHp2e1yWxvE-",
        "outputId": "254bfadd-92c9-429a-ef98-043991515592"
      },
      "execution_count": 30,
      "outputs": [
        {
          "output_type": "execute_result",
          "data": {
            "text/plain": [
              "   activity_id assay_chembl_id  \\\n",
              "0      1988091    CHEMBL898907   \n",
              "1      1988092    CHEMBL898907   \n",
              "2      1988093    CHEMBL898907   \n",
              "3      1988094    CHEMBL898907   \n",
              "4      1988095    CHEMBL898907   \n",
              "\n",
              "                                   assay_description assay_type  \\\n",
              "0  Inhibition of SARS-CoV 3C-like protease by FRE...          B   \n",
              "1  Inhibition of SARS-CoV 3C-like protease by FRE...          B   \n",
              "2  Inhibition of SARS-CoV 3C-like protease by FRE...          B   \n",
              "3  Inhibition of SARS-CoV 3C-like protease by FRE...          B   \n",
              "4  Inhibition of SARS-CoV 3C-like protease by FRE...          B   \n",
              "\n",
              "  molecule_chembl_id relation units      IC50 target_chembl_id  \\\n",
              "0       CHEMBL194398        =    nM  870000.0       CHEMBL5118   \n",
              "1       CHEMBL393608        =    nM  200000.0       CHEMBL5118   \n",
              "2       CHEMBL238216        =    nM  300000.0       CHEMBL5118   \n",
              "3       CHEMBL235873        =    nM   15000.0       CHEMBL5118   \n",
              "4       CHEMBL397154        =    nM   10000.0       CHEMBL5118   \n",
              "\n",
              "    target_organism  type  \n",
              "0  SARS coronavirus  IC50  \n",
              "1  SARS coronavirus  IC50  \n",
              "2  SARS coronavirus  IC50  \n",
              "3  SARS coronavirus  IC50  \n",
              "4  SARS coronavirus  IC50  "
            ],
            "text/html": [
              "\n",
              "  <div id=\"df-30285ad7-8f01-4a92-9139-d9fdeb8a8264\">\n",
              "    <div class=\"colab-df-container\">\n",
              "      <div>\n",
              "<style scoped>\n",
              "    .dataframe tbody tr th:only-of-type {\n",
              "        vertical-align: middle;\n",
              "    }\n",
              "\n",
              "    .dataframe tbody tr th {\n",
              "        vertical-align: top;\n",
              "    }\n",
              "\n",
              "    .dataframe thead th {\n",
              "        text-align: right;\n",
              "    }\n",
              "</style>\n",
              "<table border=\"1\" class=\"dataframe\">\n",
              "  <thead>\n",
              "    <tr style=\"text-align: right;\">\n",
              "      <th></th>\n",
              "      <th>activity_id</th>\n",
              "      <th>assay_chembl_id</th>\n",
              "      <th>assay_description</th>\n",
              "      <th>assay_type</th>\n",
              "      <th>molecule_chembl_id</th>\n",
              "      <th>relation</th>\n",
              "      <th>units</th>\n",
              "      <th>IC50</th>\n",
              "      <th>target_chembl_id</th>\n",
              "      <th>target_organism</th>\n",
              "      <th>type</th>\n",
              "    </tr>\n",
              "  </thead>\n",
              "  <tbody>\n",
              "    <tr>\n",
              "      <th>0</th>\n",
              "      <td>1988091</td>\n",
              "      <td>CHEMBL898907</td>\n",
              "      <td>Inhibition of SARS-CoV 3C-like protease by FRE...</td>\n",
              "      <td>B</td>\n",
              "      <td>CHEMBL194398</td>\n",
              "      <td>=</td>\n",
              "      <td>nM</td>\n",
              "      <td>870000.0</td>\n",
              "      <td>CHEMBL5118</td>\n",
              "      <td>SARS coronavirus</td>\n",
              "      <td>IC50</td>\n",
              "    </tr>\n",
              "    <tr>\n",
              "      <th>1</th>\n",
              "      <td>1988092</td>\n",
              "      <td>CHEMBL898907</td>\n",
              "      <td>Inhibition of SARS-CoV 3C-like protease by FRE...</td>\n",
              "      <td>B</td>\n",
              "      <td>CHEMBL393608</td>\n",
              "      <td>=</td>\n",
              "      <td>nM</td>\n",
              "      <td>200000.0</td>\n",
              "      <td>CHEMBL5118</td>\n",
              "      <td>SARS coronavirus</td>\n",
              "      <td>IC50</td>\n",
              "    </tr>\n",
              "    <tr>\n",
              "      <th>2</th>\n",
              "      <td>1988093</td>\n",
              "      <td>CHEMBL898907</td>\n",
              "      <td>Inhibition of SARS-CoV 3C-like protease by FRE...</td>\n",
              "      <td>B</td>\n",
              "      <td>CHEMBL238216</td>\n",
              "      <td>=</td>\n",
              "      <td>nM</td>\n",
              "      <td>300000.0</td>\n",
              "      <td>CHEMBL5118</td>\n",
              "      <td>SARS coronavirus</td>\n",
              "      <td>IC50</td>\n",
              "    </tr>\n",
              "    <tr>\n",
              "      <th>3</th>\n",
              "      <td>1988094</td>\n",
              "      <td>CHEMBL898907</td>\n",
              "      <td>Inhibition of SARS-CoV 3C-like protease by FRE...</td>\n",
              "      <td>B</td>\n",
              "      <td>CHEMBL235873</td>\n",
              "      <td>=</td>\n",
              "      <td>nM</td>\n",
              "      <td>15000.0</td>\n",
              "      <td>CHEMBL5118</td>\n",
              "      <td>SARS coronavirus</td>\n",
              "      <td>IC50</td>\n",
              "    </tr>\n",
              "    <tr>\n",
              "      <th>4</th>\n",
              "      <td>1988095</td>\n",
              "      <td>CHEMBL898907</td>\n",
              "      <td>Inhibition of SARS-CoV 3C-like protease by FRE...</td>\n",
              "      <td>B</td>\n",
              "      <td>CHEMBL397154</td>\n",
              "      <td>=</td>\n",
              "      <td>nM</td>\n",
              "      <td>10000.0</td>\n",
              "      <td>CHEMBL5118</td>\n",
              "      <td>SARS coronavirus</td>\n",
              "      <td>IC50</td>\n",
              "    </tr>\n",
              "  </tbody>\n",
              "</table>\n",
              "</div>\n",
              "      <button class=\"colab-df-convert\" onclick=\"convertToInteractive('df-30285ad7-8f01-4a92-9139-d9fdeb8a8264')\"\n",
              "              title=\"Convert this dataframe to an interactive table.\"\n",
              "              style=\"display:none;\">\n",
              "        \n",
              "  <svg xmlns=\"http://www.w3.org/2000/svg\" height=\"24px\"viewBox=\"0 0 24 24\"\n",
              "       width=\"24px\">\n",
              "    <path d=\"M0 0h24v24H0V0z\" fill=\"none\"/>\n",
              "    <path d=\"M18.56 5.44l.94 2.06.94-2.06 2.06-.94-2.06-.94-.94-2.06-.94 2.06-2.06.94zm-11 1L8.5 8.5l.94-2.06 2.06-.94-2.06-.94L8.5 2.5l-.94 2.06-2.06.94zm10 10l.94 2.06.94-2.06 2.06-.94-2.06-.94-.94-2.06-.94 2.06-2.06.94z\"/><path d=\"M17.41 7.96l-1.37-1.37c-.4-.4-.92-.59-1.43-.59-.52 0-1.04.2-1.43.59L10.3 9.45l-7.72 7.72c-.78.78-.78 2.05 0 2.83L4 21.41c.39.39.9.59 1.41.59.51 0 1.02-.2 1.41-.59l7.78-7.78 2.81-2.81c.8-.78.8-2.07 0-2.86zM5.41 20L4 18.59l7.72-7.72 1.47 1.35L5.41 20z\"/>\n",
              "  </svg>\n",
              "      </button>\n",
              "      \n",
              "  <style>\n",
              "    .colab-df-container {\n",
              "      display:flex;\n",
              "      flex-wrap:wrap;\n",
              "      gap: 12px;\n",
              "    }\n",
              "\n",
              "    .colab-df-convert {\n",
              "      background-color: #E8F0FE;\n",
              "      border: none;\n",
              "      border-radius: 50%;\n",
              "      cursor: pointer;\n",
              "      display: none;\n",
              "      fill: #1967D2;\n",
              "      height: 32px;\n",
              "      padding: 0 0 0 0;\n",
              "      width: 32px;\n",
              "    }\n",
              "\n",
              "    .colab-df-convert:hover {\n",
              "      background-color: #E2EBFA;\n",
              "      box-shadow: 0px 1px 2px rgba(60, 64, 67, 0.3), 0px 1px 3px 1px rgba(60, 64, 67, 0.15);\n",
              "      fill: #174EA6;\n",
              "    }\n",
              "\n",
              "    [theme=dark] .colab-df-convert {\n",
              "      background-color: #3B4455;\n",
              "      fill: #D2E3FC;\n",
              "    }\n",
              "\n",
              "    [theme=dark] .colab-df-convert:hover {\n",
              "      background-color: #434B5C;\n",
              "      box-shadow: 0px 1px 3px 1px rgba(0, 0, 0, 0.15);\n",
              "      filter: drop-shadow(0px 1px 2px rgba(0, 0, 0, 0.3));\n",
              "      fill: #FFFFFF;\n",
              "    }\n",
              "  </style>\n",
              "\n",
              "      <script>\n",
              "        const buttonEl =\n",
              "          document.querySelector('#df-30285ad7-8f01-4a92-9139-d9fdeb8a8264 button.colab-df-convert');\n",
              "        buttonEl.style.display =\n",
              "          google.colab.kernel.accessAllowed ? 'block' : 'none';\n",
              "\n",
              "        async function convertToInteractive(key) {\n",
              "          const element = document.querySelector('#df-30285ad7-8f01-4a92-9139-d9fdeb8a8264');\n",
              "          const dataTable =\n",
              "            await google.colab.kernel.invokeFunction('convertToInteractive',\n",
              "                                                     [key], {});\n",
              "          if (!dataTable) return;\n",
              "\n",
              "          const docLinkHtml = 'Like what you see? Visit the ' +\n",
              "            '<a target=\"_blank\" href=https://colab.research.google.com/notebooks/data_table.ipynb>data table notebook</a>'\n",
              "            + ' to learn more about interactive tables.';\n",
              "          element.innerHTML = '';\n",
              "          dataTable['output_type'] = 'display_data';\n",
              "          await google.colab.output.renderOutput(dataTable, element);\n",
              "          const docLink = document.createElement('div');\n",
              "          docLink.innerHTML = docLinkHtml;\n",
              "          element.appendChild(docLink);\n",
              "        }\n",
              "      </script>\n",
              "    </div>\n",
              "  </div>\n",
              "  "
            ]
          },
          "metadata": {},
          "execution_count": 30
        }
      ]
    },
    {
      "cell_type": "code",
      "source": [
        "print(f\"DataFrame shape: {bioactivities_df.shape}\")"
      ],
      "metadata": {
        "colab": {
          "base_uri": "https://localhost:8080/"
        },
        "id": "g4aLNYnix44Q",
        "outputId": "f48443c7-d259-4113-f2c7-83a749a5e3c6"
      },
      "execution_count": 31,
      "outputs": [
        {
          "output_type": "stream",
          "name": "stdout",
          "text": [
            "DataFrame shape: (152, 11)\n"
          ]
        }
      ]
    },
    {
      "cell_type": "markdown",
      "source": [
        "###**4. Get compound data**\n",
        "\n",
        "**1. Fetch compound data from ChEMBL**\n",
        "\n",
        "Let’s have a look at the compounds from ChEMBL which we have defined bioactivity data for: We fetch compound ChEMBL IDs and structures for the compounds linked to our filtered bioactivity data."
      ],
      "metadata": {
        "id": "yG4icSBoyDF9"
      }
    },
    {
      "cell_type": "code",
      "source": [
        "compounds_provider = compounds_api.filter(\n",
        "    molecule_chembl_id__in=list(bioactivities_df[\"molecule_chembl_id\"])\n",
        ").only(\"molecule_chembl_id\", \"molecule_structures\")"
      ],
      "metadata": {
        "id": "1cbf9ifwyID5"
      },
      "execution_count": 32,
      "outputs": []
    },
    {
      "cell_type": "markdown",
      "source": [
        "**Download compound data from ChEMBL**"
      ],
      "metadata": {
        "id": "4S01pXAmyR2-"
      }
    },
    {
      "cell_type": "code",
      "source": [
        "compounds = list(tqdm(compounds_provider))"
      ],
      "metadata": {
        "colab": {
          "base_uri": "https://localhost:8080/",
          "height": 49,
          "referenced_widgets": [
            "0d2ef63507fa4f938e03c35b840c8753",
            "cdd4843559ff4ba1901eed66d991ee11",
            "0ade3fd218454a648c8c6f88df224ea4",
            "1a98b28f62954bffa5c720c924e58984",
            "71a5d7ec44db4a88bfe79233048215f3",
            "fdc0bcf0ec3a416ab36cbcc55ff00419",
            "465aa8ef6e3346dd814ec033c3167fc2",
            "1cbee1704dbf43079e8bd14bb3dfe44e",
            "4b3de029ceb64163a04bdfc913e83547",
            "a5f35168df014761952f9cbbd26ffc88",
            "20706d9ef22943208d3a94b6887c7dca"
          ]
        },
        "id": "CXivqFA9yThH",
        "outputId": "7c0675b3-7c9c-4a79-c29c-b72eef5839dc"
      },
      "execution_count": 33,
      "outputs": [
        {
          "output_type": "display_data",
          "data": {
            "text/plain": [
              "  0%|          | 0/152 [00:00<?, ?it/s]"
            ],
            "application/vnd.jupyter.widget-view+json": {
              "version_major": 2,
              "version_minor": 0,
              "model_id": "0d2ef63507fa4f938e03c35b840c8753"
            }
          },
          "metadata": {}
        }
      ]
    },
    {
      "cell_type": "code",
      "source": [
        "compounds_df = pd.DataFrame.from_records(\n",
        "    compounds,\n",
        ")\n",
        "print(f\"DataFrame shape: {compounds_df.shape}\")"
      ],
      "metadata": {
        "colab": {
          "base_uri": "https://localhost:8080/"
        },
        "id": "teiItosRycLo",
        "outputId": "be205486-3471-4779-8314-ea941d27e687"
      },
      "execution_count": 34,
      "outputs": [
        {
          "output_type": "stream",
          "name": "stdout",
          "text": [
            "DataFrame shape: (152, 2)\n"
          ]
        }
      ]
    },
    {
      "cell_type": "code",
      "source": [
        "compounds_df.head()"
      ],
      "metadata": {
        "colab": {
          "base_uri": "https://localhost:8080/",
          "height": 206
        },
        "id": "qS6Fp9g2ygMD",
        "outputId": "4851f74a-ca74-4177-c44c-39b1446f06cc"
      },
      "execution_count": 35,
      "outputs": [
        {
          "output_type": "execute_result",
          "data": {
            "text/plain": [
              "  molecule_chembl_id                                molecule_structures\n",
              "0           CHEMBL28  {'canonical_smiles': 'O=c1cc(-c2ccc(O)cc2)oc2c...\n",
              "1         CHEMBL8145  {'canonical_smiles': 'O=c1c(-c2ccc(O)cc2)coc2c...\n",
              "2           CHEMBL50  {'canonical_smiles': 'O=c1c(O)c(-c2ccc(O)c(O)c...\n",
              "3        CHEMBL12798  {'canonical_smiles': 'COC(=O)[C@]1(C)CCC[C@]2(...\n",
              "4          CHEMBL151  {'canonical_smiles': 'O=c1cc(-c2ccc(O)c(O)c2)o..."
            ],
            "text/html": [
              "\n",
              "  <div id=\"df-4c576b95-cee0-42ae-84df-15ad7c9e85c6\">\n",
              "    <div class=\"colab-df-container\">\n",
              "      <div>\n",
              "<style scoped>\n",
              "    .dataframe tbody tr th:only-of-type {\n",
              "        vertical-align: middle;\n",
              "    }\n",
              "\n",
              "    .dataframe tbody tr th {\n",
              "        vertical-align: top;\n",
              "    }\n",
              "\n",
              "    .dataframe thead th {\n",
              "        text-align: right;\n",
              "    }\n",
              "</style>\n",
              "<table border=\"1\" class=\"dataframe\">\n",
              "  <thead>\n",
              "    <tr style=\"text-align: right;\">\n",
              "      <th></th>\n",
              "      <th>molecule_chembl_id</th>\n",
              "      <th>molecule_structures</th>\n",
              "    </tr>\n",
              "  </thead>\n",
              "  <tbody>\n",
              "    <tr>\n",
              "      <th>0</th>\n",
              "      <td>CHEMBL28</td>\n",
              "      <td>{'canonical_smiles': 'O=c1cc(-c2ccc(O)cc2)oc2c...</td>\n",
              "    </tr>\n",
              "    <tr>\n",
              "      <th>1</th>\n",
              "      <td>CHEMBL8145</td>\n",
              "      <td>{'canonical_smiles': 'O=c1c(-c2ccc(O)cc2)coc2c...</td>\n",
              "    </tr>\n",
              "    <tr>\n",
              "      <th>2</th>\n",
              "      <td>CHEMBL50</td>\n",
              "      <td>{'canonical_smiles': 'O=c1c(O)c(-c2ccc(O)c(O)c...</td>\n",
              "    </tr>\n",
              "    <tr>\n",
              "      <th>3</th>\n",
              "      <td>CHEMBL12798</td>\n",
              "      <td>{'canonical_smiles': 'COC(=O)[C@]1(C)CCC[C@]2(...</td>\n",
              "    </tr>\n",
              "    <tr>\n",
              "      <th>4</th>\n",
              "      <td>CHEMBL151</td>\n",
              "      <td>{'canonical_smiles': 'O=c1cc(-c2ccc(O)c(O)c2)o...</td>\n",
              "    </tr>\n",
              "  </tbody>\n",
              "</table>\n",
              "</div>\n",
              "      <button class=\"colab-df-convert\" onclick=\"convertToInteractive('df-4c576b95-cee0-42ae-84df-15ad7c9e85c6')\"\n",
              "              title=\"Convert this dataframe to an interactive table.\"\n",
              "              style=\"display:none;\">\n",
              "        \n",
              "  <svg xmlns=\"http://www.w3.org/2000/svg\" height=\"24px\"viewBox=\"0 0 24 24\"\n",
              "       width=\"24px\">\n",
              "    <path d=\"M0 0h24v24H0V0z\" fill=\"none\"/>\n",
              "    <path d=\"M18.56 5.44l.94 2.06.94-2.06 2.06-.94-2.06-.94-.94-2.06-.94 2.06-2.06.94zm-11 1L8.5 8.5l.94-2.06 2.06-.94-2.06-.94L8.5 2.5l-.94 2.06-2.06.94zm10 10l.94 2.06.94-2.06 2.06-.94-2.06-.94-.94-2.06-.94 2.06-2.06.94z\"/><path d=\"M17.41 7.96l-1.37-1.37c-.4-.4-.92-.59-1.43-.59-.52 0-1.04.2-1.43.59L10.3 9.45l-7.72 7.72c-.78.78-.78 2.05 0 2.83L4 21.41c.39.39.9.59 1.41.59.51 0 1.02-.2 1.41-.59l7.78-7.78 2.81-2.81c.8-.78.8-2.07 0-2.86zM5.41 20L4 18.59l7.72-7.72 1.47 1.35L5.41 20z\"/>\n",
              "  </svg>\n",
              "      </button>\n",
              "      \n",
              "  <style>\n",
              "    .colab-df-container {\n",
              "      display:flex;\n",
              "      flex-wrap:wrap;\n",
              "      gap: 12px;\n",
              "    }\n",
              "\n",
              "    .colab-df-convert {\n",
              "      background-color: #E8F0FE;\n",
              "      border: none;\n",
              "      border-radius: 50%;\n",
              "      cursor: pointer;\n",
              "      display: none;\n",
              "      fill: #1967D2;\n",
              "      height: 32px;\n",
              "      padding: 0 0 0 0;\n",
              "      width: 32px;\n",
              "    }\n",
              "\n",
              "    .colab-df-convert:hover {\n",
              "      background-color: #E2EBFA;\n",
              "      box-shadow: 0px 1px 2px rgba(60, 64, 67, 0.3), 0px 1px 3px 1px rgba(60, 64, 67, 0.15);\n",
              "      fill: #174EA6;\n",
              "    }\n",
              "\n",
              "    [theme=dark] .colab-df-convert {\n",
              "      background-color: #3B4455;\n",
              "      fill: #D2E3FC;\n",
              "    }\n",
              "\n",
              "    [theme=dark] .colab-df-convert:hover {\n",
              "      background-color: #434B5C;\n",
              "      box-shadow: 0px 1px 3px 1px rgba(0, 0, 0, 0.15);\n",
              "      filter: drop-shadow(0px 1px 2px rgba(0, 0, 0, 0.3));\n",
              "      fill: #FFFFFF;\n",
              "    }\n",
              "  </style>\n",
              "\n",
              "      <script>\n",
              "        const buttonEl =\n",
              "          document.querySelector('#df-4c576b95-cee0-42ae-84df-15ad7c9e85c6 button.colab-df-convert');\n",
              "        buttonEl.style.display =\n",
              "          google.colab.kernel.accessAllowed ? 'block' : 'none';\n",
              "\n",
              "        async function convertToInteractive(key) {\n",
              "          const element = document.querySelector('#df-4c576b95-cee0-42ae-84df-15ad7c9e85c6');\n",
              "          const dataTable =\n",
              "            await google.colab.kernel.invokeFunction('convertToInteractive',\n",
              "                                                     [key], {});\n",
              "          if (!dataTable) return;\n",
              "\n",
              "          const docLinkHtml = 'Like what you see? Visit the ' +\n",
              "            '<a target=\"_blank\" href=https://colab.research.google.com/notebooks/data_table.ipynb>data table notebook</a>'\n",
              "            + ' to learn more about interactive tables.';\n",
              "          element.innerHTML = '';\n",
              "          dataTable['output_type'] = 'display_data';\n",
              "          await google.colab.output.renderOutput(dataTable, element);\n",
              "          const docLink = document.createElement('div');\n",
              "          docLink.innerHTML = docLinkHtml;\n",
              "          element.appendChild(docLink);\n",
              "        }\n",
              "      </script>\n",
              "    </div>\n",
              "  </div>\n",
              "  "
            ]
          },
          "metadata": {},
          "execution_count": 35
        }
      ]
    },
    {
      "cell_type": "markdown",
      "source": [
        "**2. Preprocess and filter compound data**\n",
        "\n",
        "1. Remove entries with missing entries\n",
        "2. Delete duplicate molecules (by molecule_chembl_id)\n",
        "3. Get molecules with canonical SMILES\n",
        "\n",
        "**1. Remove entries with missing molecule structure entry**"
      ],
      "metadata": {
        "id": "Hmp57O8LymrV"
      }
    },
    {
      "cell_type": "code",
      "source": [
        "compounds_df.dropna(axis=0, how=\"any\", inplace=True)\n",
        "print(f\"DataFrame shape: {compounds_df.shape}\")"
      ],
      "metadata": {
        "colab": {
          "base_uri": "https://localhost:8080/"
        },
        "id": "3FsvHEKyyyTf",
        "outputId": "351c6ab6-ae32-451c-c063-eea4f86394b7"
      },
      "execution_count": 36,
      "outputs": [
        {
          "output_type": "stream",
          "name": "stdout",
          "text": [
            "DataFrame shape: (152, 2)\n"
          ]
        }
      ]
    },
    {
      "cell_type": "markdown",
      "source": [
        "**2. Delete duplicate molecules**"
      ],
      "metadata": {
        "id": "_GRSLV4Oy7Z-"
      }
    },
    {
      "cell_type": "code",
      "source": [
        "compounds_df.drop_duplicates(\"molecule_chembl_id\", keep=\"first\", inplace=True)\n",
        "print(f\"DataFrame shape: {compounds_df.shape}\")"
      ],
      "metadata": {
        "colab": {
          "base_uri": "https://localhost:8080/"
        },
        "id": "EuNY63exy9RA",
        "outputId": "1f250fa6-4077-4039-aa37-911f269d10f3"
      },
      "execution_count": 37,
      "outputs": [
        {
          "output_type": "stream",
          "name": "stdout",
          "text": [
            "DataFrame shape: (152, 2)\n"
          ]
        }
      ]
    },
    {
      "cell_type": "markdown",
      "source": [
        "**3. Get molecules with canonical SMILES**"
      ],
      "metadata": {
        "id": "wYaBgiSxzHrT"
      }
    },
    {
      "cell_type": "code",
      "source": [
        "compounds_df.iloc[0].molecule_structures.keys()"
      ],
      "metadata": {
        "colab": {
          "base_uri": "https://localhost:8080/"
        },
        "id": "yj3ALCpEzaBA",
        "outputId": "670e7741-c8cc-4d08-ee74-9ec895342efb"
      },
      "execution_count": 38,
      "outputs": [
        {
          "output_type": "execute_result",
          "data": {
            "text/plain": [
              "dict_keys(['canonical_smiles', 'molfile', 'standard_inchi', 'standard_inchi_key'])"
            ]
          },
          "metadata": {},
          "execution_count": 38
        }
      ]
    },
    {
      "cell_type": "code",
      "source": [
        "canonical_smiles = []\n",
        "\n",
        "for i, compounds in compounds_df.iterrows():\n",
        "    try:\n",
        "        canonical_smiles.append(compounds[\"molecule_structures\"][\"canonical_smiles\"])\n",
        "    except KeyError:\n",
        "        canonical_smiles.append(None)\n",
        "\n",
        "compounds_df[\"smiles\"] = canonical_smiles\n",
        "compounds_df.drop(\"molecule_structures\", axis=1, inplace=True)\n",
        "print(f\"DataFrame shape: {compounds_df.shape}\")"
      ],
      "metadata": {
        "colab": {
          "base_uri": "https://localhost:8080/"
        },
        "id": "J0hWpEUnzeXk",
        "outputId": "36e8a097-549d-4951-c9e1-ef7b53a2d462"
      },
      "execution_count": 39,
      "outputs": [
        {
          "output_type": "stream",
          "name": "stdout",
          "text": [
            "DataFrame shape: (152, 2)\n"
          ]
        }
      ]
    },
    {
      "cell_type": "markdown",
      "source": [
        "Remove all molecules without a canonical SMILES string."
      ],
      "metadata": {
        "id": "9g76bmD9zjp9"
      }
    },
    {
      "cell_type": "code",
      "source": [
        "compounds_df.dropna(axis=0, how=\"any\", inplace=True)\n",
        "print(f\"DataFrame shape: {compounds_df.shape}\")"
      ],
      "metadata": {
        "colab": {
          "base_uri": "https://localhost:8080/"
        },
        "id": "W5R0JCYhzlCz",
        "outputId": "acfc3654-340e-4fc3-b79b-e63861824175"
      },
      "execution_count": 40,
      "outputs": [
        {
          "output_type": "stream",
          "name": "stdout",
          "text": [
            "DataFrame shape: (152, 2)\n"
          ]
        }
      ]
    },
    {
      "cell_type": "markdown",
      "source": [
        "###**5. Output bioactivity-compound data**\n",
        "\n",
        "1. Merge bioactivity and compound data, and add pIC50 values\n",
        "2. Draw molecules with highest pIC50\n",
        "3. Freeze bioactivity data to ChEMBL 27\n",
        "4. Write output file\n",
        "\n",
        "**Summary of compound and bioactivity data**"
      ],
      "metadata": {
        "id": "zgHkQ3CTzuAr"
      }
    },
    {
      "cell_type": "code",
      "source": [
        "print(f\"Bioactivities filtered: {bioactivities_df.shape[0]}\")\n",
        "bioactivities_df.columns"
      ],
      "metadata": {
        "colab": {
          "base_uri": "https://localhost:8080/"
        },
        "id": "3gvoSgQdzs5c",
        "outputId": "51354717-cfd3-4855-9046-f4001c12fec7"
      },
      "execution_count": 41,
      "outputs": [
        {
          "output_type": "stream",
          "name": "stdout",
          "text": [
            "Bioactivities filtered: 152\n"
          ]
        },
        {
          "output_type": "execute_result",
          "data": {
            "text/plain": [
              "Index(['activity_id', 'assay_chembl_id', 'assay_description', 'assay_type',\n",
              "       'molecule_chembl_id', 'relation', 'units', 'IC50', 'target_chembl_id',\n",
              "       'target_organism', 'type'],\n",
              "      dtype='object')"
            ]
          },
          "metadata": {},
          "execution_count": 41
        }
      ]
    },
    {
      "cell_type": "code",
      "source": [
        "print(f\"Compounds filtered: {compounds_df.shape[0]}\")\n",
        "compounds_df.columns"
      ],
      "metadata": {
        "colab": {
          "base_uri": "https://localhost:8080/"
        },
        "id": "bDWYSmC6z5YX",
        "outputId": "c9bc5b51-1734-409b-bd96-70f6863dc867"
      },
      "execution_count": 42,
      "outputs": [
        {
          "output_type": "stream",
          "name": "stdout",
          "text": [
            "Compounds filtered: 152\n"
          ]
        },
        {
          "output_type": "execute_result",
          "data": {
            "text/plain": [
              "Index(['molecule_chembl_id', 'smiles'], dtype='object')"
            ]
          },
          "metadata": {},
          "execution_count": 42
        }
      ]
    },
    {
      "cell_type": "markdown",
      "source": [
        "**1. Merge both datasets**\n",
        "\n",
        "Merge values of interest from bioactivities_df and compounds_df in an output_df based on the compounds’ ChEMBL IDs (molecule_chembl_id), keeping the following columns:\n",
        "\n",
        "* ChEMBL IDs: molecule_chembl_id\n",
        "* SMILES: smiles\n",
        "* units: units\n",
        "* IC50: IC50"
      ],
      "metadata": {
        "id": "QZ9CecGQz_XZ"
      }
    },
    {
      "cell_type": "code",
      "source": [
        "# Merge DataFrames\n",
        "output_df = pd.merge(\n",
        "    bioactivities_df[[\"molecule_chembl_id\", \"IC50\", \"units\"]],\n",
        "    compounds_df,\n",
        "    on=\"molecule_chembl_id\",\n",
        ")\n",
        "\n",
        "# Reset row indices\n",
        "output_df.reset_index(drop=True, inplace=True)\n",
        "\n",
        "print(f\"Dataset with {output_df.shape[0]} entries.\")"
      ],
      "metadata": {
        "colab": {
          "base_uri": "https://localhost:8080/"
        },
        "id": "ah8hTTP40Jg0",
        "outputId": "47e732cd-437c-48da-c862-857abe861f70"
      },
      "execution_count": 43,
      "outputs": [
        {
          "output_type": "stream",
          "name": "stdout",
          "text": [
            "Dataset with 152 entries.\n"
          ]
        }
      ]
    },
    {
      "cell_type": "code",
      "source": [
        "output_df.dtypes"
      ],
      "metadata": {
        "colab": {
          "base_uri": "https://localhost:8080/"
        },
        "id": "YaHxrZ9B0NiQ",
        "outputId": "b47c3cad-02f1-41d1-b554-1b82bfd83d82"
      },
      "execution_count": 44,
      "outputs": [
        {
          "output_type": "execute_result",
          "data": {
            "text/plain": [
              "molecule_chembl_id     object\n",
              "IC50                  float64\n",
              "units                  object\n",
              "smiles                 object\n",
              "dtype: object"
            ]
          },
          "metadata": {},
          "execution_count": 44
        }
      ]
    },
    {
      "cell_type": "code",
      "source": [
        "output_df.head(10)"
      ],
      "metadata": {
        "colab": {
          "base_uri": "https://localhost:8080/",
          "height": 363
        },
        "id": "fk6tTZQY0SVa",
        "outputId": "0f722646-824b-457c-939c-97e86b8e29e6"
      },
      "execution_count": 45,
      "outputs": [
        {
          "output_type": "execute_result",
          "data": {
            "text/plain": [
              "  molecule_chembl_id      IC50 units  \\\n",
              "0       CHEMBL194398  870000.0    nM   \n",
              "1       CHEMBL393608  200000.0    nM   \n",
              "2       CHEMBL238216  300000.0    nM   \n",
              "3       CHEMBL235873   15000.0    nM   \n",
              "4       CHEMBL397154   10000.0    nM   \n",
              "5       CHEMBL238217   80000.0    nM   \n",
              "6       CHEMBL196635  800000.0    nM   \n",
              "7       CHEMBL492571    5400.0    nM   \n",
              "8       CHEMBL522710   11000.0    nM   \n",
              "9       CHEMBL492771   13600.0    nM   \n",
              "\n",
              "                                              smiles  \n",
              "0  CCOC(=O)/C=C/[C@H](C[C@@H]1CCNC1=O)NC(=O)[C@@H...  \n",
              "1  CCOC(=O)/C=C/[C@H](C[C@@H]1CCNC1=O)NC(=O)[C@H]...  \n",
              "2  CCOC(=O)/C=C/[C@H](C[C@@H]1CCNC1=O)NC(=O)[C@H]...  \n",
              "3  CCOC(=O)/C=C/[C@H](C[C@@H]1CCNC1=O)NC(=O)[C@H]...  \n",
              "4  CCOC(=O)/C=C/[C@H](C[C@@H]1CCNC1=O)NC(=O)[C@H]...  \n",
              "5  CCOC(=O)/C=C/[C@H](C[C@@H]1CCNC1=O)NC(=O)[C@H]...  \n",
              "6  CCOC(=O)/C=C/[C@H](C[C@@H]1CCNC1=O)NC(=O)[C@H]...  \n",
              "7            O=C(O)/C(O)=C/C(=O)c1cccc(NCc2ccccc2)c1  \n",
              "8        O=C(O)/C(O)=C/C(=O)c1cccc(NCc2ccc(Cl)cc2)c1  \n",
              "9        O=C(O)/C(O)=C/C(=O)c1cccc(OCc2ccc(Cl)cc2)c1  "
            ],
            "text/html": [
              "\n",
              "  <div id=\"df-1c3847ce-fdaa-441e-bb31-91e0a67daac4\">\n",
              "    <div class=\"colab-df-container\">\n",
              "      <div>\n",
              "<style scoped>\n",
              "    .dataframe tbody tr th:only-of-type {\n",
              "        vertical-align: middle;\n",
              "    }\n",
              "\n",
              "    .dataframe tbody tr th {\n",
              "        vertical-align: top;\n",
              "    }\n",
              "\n",
              "    .dataframe thead th {\n",
              "        text-align: right;\n",
              "    }\n",
              "</style>\n",
              "<table border=\"1\" class=\"dataframe\">\n",
              "  <thead>\n",
              "    <tr style=\"text-align: right;\">\n",
              "      <th></th>\n",
              "      <th>molecule_chembl_id</th>\n",
              "      <th>IC50</th>\n",
              "      <th>units</th>\n",
              "      <th>smiles</th>\n",
              "    </tr>\n",
              "  </thead>\n",
              "  <tbody>\n",
              "    <tr>\n",
              "      <th>0</th>\n",
              "      <td>CHEMBL194398</td>\n",
              "      <td>870000.0</td>\n",
              "      <td>nM</td>\n",
              "      <td>CCOC(=O)/C=C/[C@H](C[C@@H]1CCNC1=O)NC(=O)[C@@H...</td>\n",
              "    </tr>\n",
              "    <tr>\n",
              "      <th>1</th>\n",
              "      <td>CHEMBL393608</td>\n",
              "      <td>200000.0</td>\n",
              "      <td>nM</td>\n",
              "      <td>CCOC(=O)/C=C/[C@H](C[C@@H]1CCNC1=O)NC(=O)[C@H]...</td>\n",
              "    </tr>\n",
              "    <tr>\n",
              "      <th>2</th>\n",
              "      <td>CHEMBL238216</td>\n",
              "      <td>300000.0</td>\n",
              "      <td>nM</td>\n",
              "      <td>CCOC(=O)/C=C/[C@H](C[C@@H]1CCNC1=O)NC(=O)[C@H]...</td>\n",
              "    </tr>\n",
              "    <tr>\n",
              "      <th>3</th>\n",
              "      <td>CHEMBL235873</td>\n",
              "      <td>15000.0</td>\n",
              "      <td>nM</td>\n",
              "      <td>CCOC(=O)/C=C/[C@H](C[C@@H]1CCNC1=O)NC(=O)[C@H]...</td>\n",
              "    </tr>\n",
              "    <tr>\n",
              "      <th>4</th>\n",
              "      <td>CHEMBL397154</td>\n",
              "      <td>10000.0</td>\n",
              "      <td>nM</td>\n",
              "      <td>CCOC(=O)/C=C/[C@H](C[C@@H]1CCNC1=O)NC(=O)[C@H]...</td>\n",
              "    </tr>\n",
              "    <tr>\n",
              "      <th>5</th>\n",
              "      <td>CHEMBL238217</td>\n",
              "      <td>80000.0</td>\n",
              "      <td>nM</td>\n",
              "      <td>CCOC(=O)/C=C/[C@H](C[C@@H]1CCNC1=O)NC(=O)[C@H]...</td>\n",
              "    </tr>\n",
              "    <tr>\n",
              "      <th>6</th>\n",
              "      <td>CHEMBL196635</td>\n",
              "      <td>800000.0</td>\n",
              "      <td>nM</td>\n",
              "      <td>CCOC(=O)/C=C/[C@H](C[C@@H]1CCNC1=O)NC(=O)[C@H]...</td>\n",
              "    </tr>\n",
              "    <tr>\n",
              "      <th>7</th>\n",
              "      <td>CHEMBL492571</td>\n",
              "      <td>5400.0</td>\n",
              "      <td>nM</td>\n",
              "      <td>O=C(O)/C(O)=C/C(=O)c1cccc(NCc2ccccc2)c1</td>\n",
              "    </tr>\n",
              "    <tr>\n",
              "      <th>8</th>\n",
              "      <td>CHEMBL522710</td>\n",
              "      <td>11000.0</td>\n",
              "      <td>nM</td>\n",
              "      <td>O=C(O)/C(O)=C/C(=O)c1cccc(NCc2ccc(Cl)cc2)c1</td>\n",
              "    </tr>\n",
              "    <tr>\n",
              "      <th>9</th>\n",
              "      <td>CHEMBL492771</td>\n",
              "      <td>13600.0</td>\n",
              "      <td>nM</td>\n",
              "      <td>O=C(O)/C(O)=C/C(=O)c1cccc(OCc2ccc(Cl)cc2)c1</td>\n",
              "    </tr>\n",
              "  </tbody>\n",
              "</table>\n",
              "</div>\n",
              "      <button class=\"colab-df-convert\" onclick=\"convertToInteractive('df-1c3847ce-fdaa-441e-bb31-91e0a67daac4')\"\n",
              "              title=\"Convert this dataframe to an interactive table.\"\n",
              "              style=\"display:none;\">\n",
              "        \n",
              "  <svg xmlns=\"http://www.w3.org/2000/svg\" height=\"24px\"viewBox=\"0 0 24 24\"\n",
              "       width=\"24px\">\n",
              "    <path d=\"M0 0h24v24H0V0z\" fill=\"none\"/>\n",
              "    <path d=\"M18.56 5.44l.94 2.06.94-2.06 2.06-.94-2.06-.94-.94-2.06-.94 2.06-2.06.94zm-11 1L8.5 8.5l.94-2.06 2.06-.94-2.06-.94L8.5 2.5l-.94 2.06-2.06.94zm10 10l.94 2.06.94-2.06 2.06-.94-2.06-.94-.94-2.06-.94 2.06-2.06.94z\"/><path d=\"M17.41 7.96l-1.37-1.37c-.4-.4-.92-.59-1.43-.59-.52 0-1.04.2-1.43.59L10.3 9.45l-7.72 7.72c-.78.78-.78 2.05 0 2.83L4 21.41c.39.39.9.59 1.41.59.51 0 1.02-.2 1.41-.59l7.78-7.78 2.81-2.81c.8-.78.8-2.07 0-2.86zM5.41 20L4 18.59l7.72-7.72 1.47 1.35L5.41 20z\"/>\n",
              "  </svg>\n",
              "      </button>\n",
              "      \n",
              "  <style>\n",
              "    .colab-df-container {\n",
              "      display:flex;\n",
              "      flex-wrap:wrap;\n",
              "      gap: 12px;\n",
              "    }\n",
              "\n",
              "    .colab-df-convert {\n",
              "      background-color: #E8F0FE;\n",
              "      border: none;\n",
              "      border-radius: 50%;\n",
              "      cursor: pointer;\n",
              "      display: none;\n",
              "      fill: #1967D2;\n",
              "      height: 32px;\n",
              "      padding: 0 0 0 0;\n",
              "      width: 32px;\n",
              "    }\n",
              "\n",
              "    .colab-df-convert:hover {\n",
              "      background-color: #E2EBFA;\n",
              "      box-shadow: 0px 1px 2px rgba(60, 64, 67, 0.3), 0px 1px 3px 1px rgba(60, 64, 67, 0.15);\n",
              "      fill: #174EA6;\n",
              "    }\n",
              "\n",
              "    [theme=dark] .colab-df-convert {\n",
              "      background-color: #3B4455;\n",
              "      fill: #D2E3FC;\n",
              "    }\n",
              "\n",
              "    [theme=dark] .colab-df-convert:hover {\n",
              "      background-color: #434B5C;\n",
              "      box-shadow: 0px 1px 3px 1px rgba(0, 0, 0, 0.15);\n",
              "      filter: drop-shadow(0px 1px 2px rgba(0, 0, 0, 0.3));\n",
              "      fill: #FFFFFF;\n",
              "    }\n",
              "  </style>\n",
              "\n",
              "      <script>\n",
              "        const buttonEl =\n",
              "          document.querySelector('#df-1c3847ce-fdaa-441e-bb31-91e0a67daac4 button.colab-df-convert');\n",
              "        buttonEl.style.display =\n",
              "          google.colab.kernel.accessAllowed ? 'block' : 'none';\n",
              "\n",
              "        async function convertToInteractive(key) {\n",
              "          const element = document.querySelector('#df-1c3847ce-fdaa-441e-bb31-91e0a67daac4');\n",
              "          const dataTable =\n",
              "            await google.colab.kernel.invokeFunction('convertToInteractive',\n",
              "                                                     [key], {});\n",
              "          if (!dataTable) return;\n",
              "\n",
              "          const docLinkHtml = 'Like what you see? Visit the ' +\n",
              "            '<a target=\"_blank\" href=https://colab.research.google.com/notebooks/data_table.ipynb>data table notebook</a>'\n",
              "            + ' to learn more about interactive tables.';\n",
              "          element.innerHTML = '';\n",
              "          dataTable['output_type'] = 'display_data';\n",
              "          await google.colab.output.renderOutput(dataTable, element);\n",
              "          const docLink = document.createElement('div');\n",
              "          docLink.innerHTML = docLinkHtml;\n",
              "          element.appendChild(docLink);\n",
              "        }\n",
              "      </script>\n",
              "    </div>\n",
              "  </div>\n",
              "  "
            ]
          },
          "metadata": {},
          "execution_count": 45
        }
      ]
    },
    {
      "cell_type": "markdown",
      "source": [
        "**Add pIC50 values**\n",
        "\n",
        "IC50 values are difficult to read (values are distributed over multiple scales), **which is why we convert the IC50 values to pIC50**."
      ],
      "metadata": {
        "id": "cihAu1Hy0Yq4"
      }
    },
    {
      "cell_type": "code",
      "source": [
        "def convert_ic50_to_pic50(IC50_value):\n",
        "    pIC50_value = 9 - math.log10(IC50_value)\n",
        "    return pIC50_value"
      ],
      "metadata": {
        "id": "gd-BeBmt0dSr"
      },
      "execution_count": 46,
      "outputs": []
    },
    {
      "cell_type": "code",
      "source": [
        "# Apply conversion to each row of the compounds DataFrame\n",
        "output_df[\"pIC50\"] = output_df.apply(lambda x: convert_ic50_to_pic50(x.IC50), axis=1)"
      ],
      "metadata": {
        "id": "Pdlkzjxm0kMI"
      },
      "execution_count": 47,
      "outputs": []
    },
    {
      "cell_type": "code",
      "source": [
        "output_df.head()"
      ],
      "metadata": {
        "colab": {
          "base_uri": "https://localhost:8080/",
          "height": 206
        },
        "id": "tsnrQftx0nSF",
        "outputId": "cb8945d2-659e-4c7a-8970-5928615606a6"
      },
      "execution_count": 48,
      "outputs": [
        {
          "output_type": "execute_result",
          "data": {
            "text/plain": [
              "  molecule_chembl_id      IC50 units  \\\n",
              "0       CHEMBL194398  870000.0    nM   \n",
              "1       CHEMBL393608  200000.0    nM   \n",
              "2       CHEMBL238216  300000.0    nM   \n",
              "3       CHEMBL235873   15000.0    nM   \n",
              "4       CHEMBL397154   10000.0    nM   \n",
              "\n",
              "                                              smiles     pIC50  \n",
              "0  CCOC(=O)/C=C/[C@H](C[C@@H]1CCNC1=O)NC(=O)[C@@H...  3.060481  \n",
              "1  CCOC(=O)/C=C/[C@H](C[C@@H]1CCNC1=O)NC(=O)[C@H]...  3.698970  \n",
              "2  CCOC(=O)/C=C/[C@H](C[C@@H]1CCNC1=O)NC(=O)[C@H]...  3.522879  \n",
              "3  CCOC(=O)/C=C/[C@H](C[C@@H]1CCNC1=O)NC(=O)[C@H]...  4.823909  \n",
              "4  CCOC(=O)/C=C/[C@H](C[C@@H]1CCNC1=O)NC(=O)[C@H]...  5.000000  "
            ],
            "text/html": [
              "\n",
              "  <div id=\"df-d44ce875-d97f-493f-97b5-5a009928c516\">\n",
              "    <div class=\"colab-df-container\">\n",
              "      <div>\n",
              "<style scoped>\n",
              "    .dataframe tbody tr th:only-of-type {\n",
              "        vertical-align: middle;\n",
              "    }\n",
              "\n",
              "    .dataframe tbody tr th {\n",
              "        vertical-align: top;\n",
              "    }\n",
              "\n",
              "    .dataframe thead th {\n",
              "        text-align: right;\n",
              "    }\n",
              "</style>\n",
              "<table border=\"1\" class=\"dataframe\">\n",
              "  <thead>\n",
              "    <tr style=\"text-align: right;\">\n",
              "      <th></th>\n",
              "      <th>molecule_chembl_id</th>\n",
              "      <th>IC50</th>\n",
              "      <th>units</th>\n",
              "      <th>smiles</th>\n",
              "      <th>pIC50</th>\n",
              "    </tr>\n",
              "  </thead>\n",
              "  <tbody>\n",
              "    <tr>\n",
              "      <th>0</th>\n",
              "      <td>CHEMBL194398</td>\n",
              "      <td>870000.0</td>\n",
              "      <td>nM</td>\n",
              "      <td>CCOC(=O)/C=C/[C@H](C[C@@H]1CCNC1=O)NC(=O)[C@@H...</td>\n",
              "      <td>3.060481</td>\n",
              "    </tr>\n",
              "    <tr>\n",
              "      <th>1</th>\n",
              "      <td>CHEMBL393608</td>\n",
              "      <td>200000.0</td>\n",
              "      <td>nM</td>\n",
              "      <td>CCOC(=O)/C=C/[C@H](C[C@@H]1CCNC1=O)NC(=O)[C@H]...</td>\n",
              "      <td>3.698970</td>\n",
              "    </tr>\n",
              "    <tr>\n",
              "      <th>2</th>\n",
              "      <td>CHEMBL238216</td>\n",
              "      <td>300000.0</td>\n",
              "      <td>nM</td>\n",
              "      <td>CCOC(=O)/C=C/[C@H](C[C@@H]1CCNC1=O)NC(=O)[C@H]...</td>\n",
              "      <td>3.522879</td>\n",
              "    </tr>\n",
              "    <tr>\n",
              "      <th>3</th>\n",
              "      <td>CHEMBL235873</td>\n",
              "      <td>15000.0</td>\n",
              "      <td>nM</td>\n",
              "      <td>CCOC(=O)/C=C/[C@H](C[C@@H]1CCNC1=O)NC(=O)[C@H]...</td>\n",
              "      <td>4.823909</td>\n",
              "    </tr>\n",
              "    <tr>\n",
              "      <th>4</th>\n",
              "      <td>CHEMBL397154</td>\n",
              "      <td>10000.0</td>\n",
              "      <td>nM</td>\n",
              "      <td>CCOC(=O)/C=C/[C@H](C[C@@H]1CCNC1=O)NC(=O)[C@H]...</td>\n",
              "      <td>5.000000</td>\n",
              "    </tr>\n",
              "  </tbody>\n",
              "</table>\n",
              "</div>\n",
              "      <button class=\"colab-df-convert\" onclick=\"convertToInteractive('df-d44ce875-d97f-493f-97b5-5a009928c516')\"\n",
              "              title=\"Convert this dataframe to an interactive table.\"\n",
              "              style=\"display:none;\">\n",
              "        \n",
              "  <svg xmlns=\"http://www.w3.org/2000/svg\" height=\"24px\"viewBox=\"0 0 24 24\"\n",
              "       width=\"24px\">\n",
              "    <path d=\"M0 0h24v24H0V0z\" fill=\"none\"/>\n",
              "    <path d=\"M18.56 5.44l.94 2.06.94-2.06 2.06-.94-2.06-.94-.94-2.06-.94 2.06-2.06.94zm-11 1L8.5 8.5l.94-2.06 2.06-.94-2.06-.94L8.5 2.5l-.94 2.06-2.06.94zm10 10l.94 2.06.94-2.06 2.06-.94-2.06-.94-.94-2.06-.94 2.06-2.06.94z\"/><path d=\"M17.41 7.96l-1.37-1.37c-.4-.4-.92-.59-1.43-.59-.52 0-1.04.2-1.43.59L10.3 9.45l-7.72 7.72c-.78.78-.78 2.05 0 2.83L4 21.41c.39.39.9.59 1.41.59.51 0 1.02-.2 1.41-.59l7.78-7.78 2.81-2.81c.8-.78.8-2.07 0-2.86zM5.41 20L4 18.59l7.72-7.72 1.47 1.35L5.41 20z\"/>\n",
              "  </svg>\n",
              "      </button>\n",
              "      \n",
              "  <style>\n",
              "    .colab-df-container {\n",
              "      display:flex;\n",
              "      flex-wrap:wrap;\n",
              "      gap: 12px;\n",
              "    }\n",
              "\n",
              "    .colab-df-convert {\n",
              "      background-color: #E8F0FE;\n",
              "      border: none;\n",
              "      border-radius: 50%;\n",
              "      cursor: pointer;\n",
              "      display: none;\n",
              "      fill: #1967D2;\n",
              "      height: 32px;\n",
              "      padding: 0 0 0 0;\n",
              "      width: 32px;\n",
              "    }\n",
              "\n",
              "    .colab-df-convert:hover {\n",
              "      background-color: #E2EBFA;\n",
              "      box-shadow: 0px 1px 2px rgba(60, 64, 67, 0.3), 0px 1px 3px 1px rgba(60, 64, 67, 0.15);\n",
              "      fill: #174EA6;\n",
              "    }\n",
              "\n",
              "    [theme=dark] .colab-df-convert {\n",
              "      background-color: #3B4455;\n",
              "      fill: #D2E3FC;\n",
              "    }\n",
              "\n",
              "    [theme=dark] .colab-df-convert:hover {\n",
              "      background-color: #434B5C;\n",
              "      box-shadow: 0px 1px 3px 1px rgba(0, 0, 0, 0.15);\n",
              "      filter: drop-shadow(0px 1px 2px rgba(0, 0, 0, 0.3));\n",
              "      fill: #FFFFFF;\n",
              "    }\n",
              "  </style>\n",
              "\n",
              "      <script>\n",
              "        const buttonEl =\n",
              "          document.querySelector('#df-d44ce875-d97f-493f-97b5-5a009928c516 button.colab-df-convert');\n",
              "        buttonEl.style.display =\n",
              "          google.colab.kernel.accessAllowed ? 'block' : 'none';\n",
              "\n",
              "        async function convertToInteractive(key) {\n",
              "          const element = document.querySelector('#df-d44ce875-d97f-493f-97b5-5a009928c516');\n",
              "          const dataTable =\n",
              "            await google.colab.kernel.invokeFunction('convertToInteractive',\n",
              "                                                     [key], {});\n",
              "          if (!dataTable) return;\n",
              "\n",
              "          const docLinkHtml = 'Like what you see? Visit the ' +\n",
              "            '<a target=\"_blank\" href=https://colab.research.google.com/notebooks/data_table.ipynb>data table notebook</a>'\n",
              "            + ' to learn more about interactive tables.';\n",
              "          element.innerHTML = '';\n",
              "          dataTable['output_type'] = 'display_data';\n",
              "          await google.colab.output.renderOutput(dataTable, element);\n",
              "          const docLink = document.createElement('div');\n",
              "          docLink.innerHTML = docLinkHtml;\n",
              "          element.appendChild(docLink);\n",
              "        }\n",
              "      </script>\n",
              "    </div>\n",
              "  </div>\n",
              "  "
            ]
          },
          "metadata": {},
          "execution_count": 48
        }
      ]
    },
    {
      "cell_type": "markdown",
      "source": [
        "**Plot the pIC50 value distribution**"
      ],
      "metadata": {
        "id": "cSkbkBzR0s1O"
      }
    },
    {
      "cell_type": "code",
      "source": [
        "output_df.hist(column=\"pIC50\")"
      ],
      "metadata": {
        "colab": {
          "base_uri": "https://localhost:8080/",
          "height": 316
        },
        "id": "4hUNEA6k002-",
        "outputId": "649f9608-2685-4f87-cd5b-40bc2ccd3d9f"
      },
      "execution_count": 49,
      "outputs": [
        {
          "output_type": "execute_result",
          "data": {
            "text/plain": [
              "array([[<matplotlib.axes._subplots.AxesSubplot object at 0x7f417523c750>]],\n",
              "      dtype=object)"
            ]
          },
          "metadata": {},
          "execution_count": 49
        },
        {
          "output_type": "display_data",
          "data": {
            "text/plain": [
              "<Figure size 432x288 with 1 Axes>"
            ],
            "image/png": "[encoded data removed]"
          },
          "metadata": {
            "needs_background": "light"
          }
        }
      ]
    },
    {
      "cell_type": "markdown",
      "source": [
        "Add a column for RDKit molecule objects to our DataFrame and look at the structures of the molecules with the highest pIC50 values."
      ],
      "metadata": {
        "id": "_oQ6B4QQ7oyi"
      }
    },
    {
      "cell_type": "code",
      "source": [
        "# Add molecule column\n",
        "PandasTools.AddMoleculeColumnToFrame(output_df, smilesCol=\"smiles\")"
      ],
      "metadata": {
        "id": "uTej_9Vi58QC"
      },
      "execution_count": 50,
      "outputs": []
    },
    {
      "cell_type": "code",
      "source": [
        "# Sort molecules by pIC50\n",
        "output_df.sort_values(by=\"pIC50\", ascending=False, inplace=True)\n",
        "\n",
        "# Reset index\n",
        "output_df.reset_index(drop=True, inplace=True)"
      ],
      "metadata": {
        "id": "TL2EhU5A9LA0"
      },
      "execution_count": 51,
      "outputs": []
    },
    {
      "cell_type": "markdown",
      "source": [
        "Show the 3 most active molecules, i.e. molecules with the highest pIC50 values."
      ],
      "metadata": {
        "id": "nrIS-Nbx9Swk"
      }
    },
    {
      "cell_type": "code",
      "source": [
        "output_df.drop(\"smiles\", axis=1).head(3)"
      ],
      "metadata": {
        "colab": {
          "base_uri": "https://localhost:8080/",
          "height": 707
        },
        "id": "CMXaPg399Wwo",
        "outputId": "67a9f210-21b5-44ba-d565-241dd00c282d"
      },
      "execution_count": 52,
      "outputs": [
        {
          "output_type": "execute_result",
          "data": {
            "text/plain": [
              "  molecule_chembl_id   IC50 units     pIC50  \\\n",
              "0      CHEMBL2441741  230.0    nM  6.638272   \n",
              "1       CHEMBL221366  500.0    nM  6.301030   \n",
              "2      CHEMBL2441745  610.0    nM  6.214670   \n",
              "\n",
              "                                               ROMol  \n",
              "0  <img data-content=\"rdkit/molecule\" src=\"data:i...  \n",
              "1  <img data-content=\"rdkit/molecule\" src=\"data:i...  \n",
              "2  <img data-content=\"rdkit/molecule\" src=\"data:i...  "
            ],
            "text/html": [
              "\n",
              "  <div id=\"df-122a688b-1c4e-4cd6-983d-5dcd775d9d79\">\n",
              "    <div class=\"colab-df-container\">\n",
              "      <div>\n",
              "<style scoped>\n",
              "    .dataframe tbody tr th:only-of-type {\n",
              "        vertical-align: middle;\n",
              "    }\n",
              "\n",
              "    .dataframe tbody tr th {\n",
              "        vertical-align: top;\n",
              "    }\n",
              "\n",
              "    .dataframe thead th {\n",
              "        text-align: right;\n",
              "    }\n",
              "</style>\n",
              "<table border=\"1\" class=\"dataframe\">\n",
              "  <thead>\n",
              "    <tr style=\"text-align: right;\">\n",
              "      <th></th>\n",
              "      <th>molecule_chembl_id</th>\n",
              "      <th>IC50</th>\n",
              "      <th>units</th>\n",
              "      <th>pIC50</th>\n",
              "      <th>ROMol</th>\n",
              "    </tr>\n",
              "  </thead>\n",
              "  <tbody>\n",
              "    <tr>\n",
              "      <th>0</th>\n",
              "      <td>CHEMBL2441741</td>\n",
              "      <td>230.0</td>\n",
              "      <td>nM</td>\n",
              "      <td>6.638272</td>\n",
              "      <td style=\"text-align: center;\"><img data-content=\"rdkit/molecule\" src=\"data:image/png;base64,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\" alt=\"Mol\"/></td>\n",
              "    </tr>\n",
              "    <tr>\n",
              "      <th>1</th>\n",
              "      <td>CHEMBL221366</td>\n",
              "      <td>500.0</td>\n",
              "      <td>nM</td>\n",
              "      <td>6.301030</td>\n",
              "      <td style=\"text-align: center;\"><img data-content=\"rdkit/molecule\" src=\"data:image/png;base64,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\" alt=\"Mol\"/></td>\n",
              "    </tr>\n",
              "    <tr>\n",
              "      <th>2</th>\n",
              "      <td>CHEMBL2441745</td>\n",
              "      <td>610.0</td>\n",
              "      <td>nM</td>\n",
              "      <td>6.214670</td>\n",
              "      <td style=\"text-align: center;\"><img data-content=\"rdkit/molecule\" src=\"data:image/png;base64,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\" alt=\"Mol\"/></td>\n",
              "    </tr>\n",
              "  </tbody>\n",
              "</table>\n",
              "</div>\n",
              "      <button class=\"colab-df-convert\" onclick=\"convertToInteractive('df-122a688b-1c4e-4cd6-983d-5dcd775d9d79')\"\n",
              "              title=\"Convert this dataframe to an interactive table.\"\n",
              "              style=\"display:none;\">\n",
              "        \n",
              "  <svg xmlns=\"http://www.w3.org/2000/svg\" height=\"24px\"viewBox=\"0 0 24 24\"\n",
              "       width=\"24px\">\n",
              "    <path d=\"M0 0h24v24H0V0z\" fill=\"none\"/>\n",
              "    <path d=\"M18.56 5.44l.94 2.06.94-2.06 2.06-.94-2.06-.94-.94-2.06-.94 2.06-2.06.94zm-11 1L8.5 8.5l.94-2.06 2.06-.94-2.06-.94L8.5 2.5l-.94 2.06-2.06.94zm10 10l.94 2.06.94-2.06 2.06-.94-2.06-.94-.94-2.06-.94 2.06-2.06.94z\"/><path d=\"M17.41 7.96l-1.37-1.37c-.4-.4-.92-.59-1.43-.59-.52 0-1.04.2-1.43.59L10.3 9.45l-7.72 7.72c-.78.78-.78 2.05 0 2.83L4 21.41c.39.39.9.59 1.41.59.51 0 1.02-.2 1.41-.59l7.78-7.78 2.81-2.81c.8-.78.8-2.07 0-2.86zM5.41 20L4 18.59l7.72-7.72 1.47 1.35L5.41 20z\"/>\n",
              "  </svg>\n",
              "      </button>\n",
              "      \n",
              "  <style>\n",
              "    .colab-df-container {\n",
              "      display:flex;\n",
              "      flex-wrap:wrap;\n",
              "      gap: 12px;\n",
              "    }\n",
              "\n",
              "    .colab-df-convert {\n",
              "      background-color: #E8F0FE;\n",
              "      border: none;\n",
              "      border-radius: 50%;\n",
              "      cursor: pointer;\n",
              "      display: none;\n",
              "      fill: #1967D2;\n",
              "      height: 32px;\n",
              "      padding: 0 0 0 0;\n",
              "      width: 32px;\n",
              "    }\n",
              "\n",
              "    .colab-df-convert:hover {\n",
              "      background-color: #E2EBFA;\n",
              "      box-shadow: 0px 1px 2px rgba(60, 64, 67, 0.3), 0px 1px 3px 1px rgba(60, 64, 67, 0.15);\n",
              "      fill: #174EA6;\n",
              "    }\n",
              "\n",
              "    [theme=dark] .colab-df-convert {\n",
              "      background-color: #3B4455;\n",
              "      fill: #D2E3FC;\n",
              "    }\n",
              "\n",
              "    [theme=dark] .colab-df-convert:hover {\n",
              "      background-color: #434B5C;\n",
              "      box-shadow: 0px 1px 3px 1px rgba(0, 0, 0, 0.15);\n",
              "      filter: drop-shadow(0px 1px 2px rgba(0, 0, 0, 0.3));\n",
              "      fill: #FFFFFF;\n",
              "    }\n",
              "  </style>\n",
              "\n",
              "      <script>\n",
              "        const buttonEl =\n",
              "          document.querySelector('#df-122a688b-1c4e-4cd6-983d-5dcd775d9d79 button.colab-df-convert');\n",
              "        buttonEl.style.display =\n",
              "          google.colab.kernel.accessAllowed ? 'block' : 'none';\n",
              "\n",
              "        async function convertToInteractive(key) {\n",
              "          const element = document.querySelector('#df-122a688b-1c4e-4cd6-983d-5dcd775d9d79');\n",
              "          const dataTable =\n",
              "            await google.colab.kernel.invokeFunction('convertToInteractive',\n",
              "                                                     [key], {});\n",
              "          if (!dataTable) return;\n",
              "\n",
              "          const docLinkHtml = 'Like what you see? Visit the ' +\n",
              "            '<a target=\"_blank\" href=https://colab.research.google.com/notebooks/data_table.ipynb>data table notebook</a>'\n",
              "            + ' to learn more about interactive tables.';\n",
              "          element.innerHTML = '';\n",
              "          dataTable['output_type'] = 'display_data';\n",
              "          await google.colab.output.renderOutput(dataTable, element);\n",
              "          const docLink = document.createElement('div');\n",
              "          docLink.innerHTML = docLinkHtml;\n",
              "          element.appendChild(docLink);\n",
              "        }\n",
              "      </script>\n",
              "    </div>\n",
              "  </div>\n",
              "  "
            ]
          },
          "metadata": {},
          "execution_count": 52
        }
      ]
    },
    {
      "cell_type": "code",
      "source": [
        "# Save dataset without ROMol column\n",
        "output_df = output_df.drop(\"ROMol\", axis=1)\n",
        "print(f\"DataFrame shape: {output_df.shape}\")"
      ],
      "metadata": {
        "colab": {
          "base_uri": "https://localhost:8080/"
        },
        "id": "RHKpVdh8TDum",
        "outputId": "f1bbb00c-d409-469c-bb7e-5318b863f76b"
      },
      "execution_count": 53,
      "outputs": [
        {
          "output_type": "stream",
          "name": "stdout",
          "text": [
            "DataFrame shape: (152, 5)\n"
          ]
        }
      ]
    },
    {
      "cell_type": "code",
      "source": [
        "# Save dataset in a CSV file\n",
        "output_df.to_csv('SARS-CoV_Compounds.csv', index=False)\n",
        "output_df.head()"
      ],
      "metadata": {
        "colab": {
          "base_uri": "https://localhost:8080/",
          "height": 206
        },
        "id": "5lz6fzyTTJyq",
        "outputId": "5a388191-4d6f-4b73-95d8-cc74fe16b612"
      },
      "execution_count": 56,
      "outputs": [
        {
          "output_type": "execute_result",
          "data": {
            "text/plain": [
              "  molecule_chembl_id    IC50 units  \\\n",
              "0      CHEMBL2441741   230.0    nM   \n",
              "1       CHEMBL221366   500.0    nM   \n",
              "2      CHEMBL2441745   610.0    nM   \n",
              "3      CHEMBL1876821   940.0    nM   \n",
              "4      CHEMBL3099526  1040.0    nM   \n",
              "\n",
              "                                              smiles     pIC50  \n",
              "0  CC(C)C[C@H](NC(=O)[C@H](Cc1cccc2ccccc12)NC(=O)...  6.638272  \n",
              "1                              O=C(Oc1cccnc1)c1cccs1  6.301030  \n",
              "2  CC(C)C[C@H](NC(=O)[C@H](Cc1cccc2ccccc12)NC(=O)...  6.214670  \n",
              "3            CN(CC(=O)NC1CCCC1)S(=O)(=O)c1cccc(Cl)c1  6.026872  \n",
              "4       CC1CCN(S(=O)(=O)c2ccc3c(c2)C(=O)C(=O)N3C)CC1  5.982967  "
            ],
            "text/html": [
              "\n",
              "  <div id=\"df-042e1d5e-4e7b-4862-acfc-981d98456e16\">\n",
              "    <div class=\"colab-df-container\">\n",
              "      <div>\n",
              "<style scoped>\n",
              "    .dataframe tbody tr th:only-of-type {\n",
              "        vertical-align: middle;\n",
              "    }\n",
              "\n",
              "    .dataframe tbody tr th {\n",
              "        vertical-align: top;\n",
              "    }\n",
              "\n",
              "    .dataframe thead th {\n",
              "        text-align: right;\n",
              "    }\n",
              "</style>\n",
              "<table border=\"1\" class=\"dataframe\">\n",
              "  <thead>\n",
              "    <tr style=\"text-align: right;\">\n",
              "      <th></th>\n",
              "      <th>molecule_chembl_id</th>\n",
              "      <th>IC50</th>\n",
              "      <th>units</th>\n",
              "      <th>smiles</th>\n",
              "      <th>pIC50</th>\n",
              "    </tr>\n",
              "  </thead>\n",
              "  <tbody>\n",
              "    <tr>\n",
              "      <th>0</th>\n",
              "      <td>CHEMBL2441741</td>\n",
              "      <td>230.0</td>\n",
              "      <td>nM</td>\n",
              "      <td>CC(C)C[C@H](NC(=O)[C@H](Cc1cccc2ccccc12)NC(=O)...</td>\n",
              "      <td>6.638272</td>\n",
              "    </tr>\n",
              "    <tr>\n",
              "      <th>1</th>\n",
              "      <td>CHEMBL221366</td>\n",
              "      <td>500.0</td>\n",
              "      <td>nM</td>\n",
              "      <td>O=C(Oc1cccnc1)c1cccs1</td>\n",
              "      <td>6.301030</td>\n",
              "    </tr>\n",
              "    <tr>\n",
              "      <th>2</th>\n",
              "      <td>CHEMBL2441745</td>\n",
              "      <td>610.0</td>\n",
              "      <td>nM</td>\n",
              "      <td>CC(C)C[C@H](NC(=O)[C@H](Cc1cccc2ccccc12)NC(=O)...</td>\n",
              "      <td>6.214670</td>\n",
              "    </tr>\n",
              "    <tr>\n",
              "      <th>3</th>\n",
              "      <td>CHEMBL1876821</td>\n",
              "      <td>940.0</td>\n",
              "      <td>nM</td>\n",
              "      <td>CN(CC(=O)NC1CCCC1)S(=O)(=O)c1cccc(Cl)c1</td>\n",
              "      <td>6.026872</td>\n",
              "    </tr>\n",
              "    <tr>\n",
              "      <th>4</th>\n",
              "      <td>CHEMBL3099526</td>\n",
              "      <td>1040.0</td>\n",
              "      <td>nM</td>\n",
              "      <td>CC1CCN(S(=O)(=O)c2ccc3c(c2)C(=O)C(=O)N3C)CC1</td>\n",
              "      <td>5.982967</td>\n",
              "    </tr>\n",
              "  </tbody>\n",
              "</table>\n",
              "</div>\n",
              "      <button class=\"colab-df-convert\" onclick=\"convertToInteractive('df-042e1d5e-4e7b-4862-acfc-981d98456e16')\"\n",
              "              title=\"Convert this dataframe to an interactive table.\"\n",
              "              style=\"display:none;\">\n",
              "        \n",
              "  <svg xmlns=\"http://www.w3.org/2000/svg\" height=\"24px\"viewBox=\"0 0 24 24\"\n",
              "       width=\"24px\">\n",
              "    <path d=\"M0 0h24v24H0V0z\" fill=\"none\"/>\n",
              "    <path d=\"M18.56 5.44l.94 2.06.94-2.06 2.06-.94-2.06-.94-.94-2.06-.94 2.06-2.06.94zm-11 1L8.5 8.5l.94-2.06 2.06-.94-2.06-.94L8.5 2.5l-.94 2.06-2.06.94zm10 10l.94 2.06.94-2.06 2.06-.94-2.06-.94-.94-2.06-.94 2.06-2.06.94z\"/><path d=\"M17.41 7.96l-1.37-1.37c-.4-.4-.92-.59-1.43-.59-.52 0-1.04.2-1.43.59L10.3 9.45l-7.72 7.72c-.78.78-.78 2.05 0 2.83L4 21.41c.39.39.9.59 1.41.59.51 0 1.02-.2 1.41-.59l7.78-7.78 2.81-2.81c.8-.78.8-2.07 0-2.86zM5.41 20L4 18.59l7.72-7.72 1.47 1.35L5.41 20z\"/>\n",
              "  </svg>\n",
              "      </button>\n",
              "      \n",
              "  <style>\n",
              "    .colab-df-container {\n",
              "      display:flex;\n",
              "      flex-wrap:wrap;\n",
              "      gap: 12px;\n",
              "    }\n",
              "\n",
              "    .colab-df-convert {\n",
              "      background-color: #E8F0FE;\n",
              "      border: none;\n",
              "      border-radius: 50%;\n",
              "      cursor: pointer;\n",
              "      display: none;\n",
              "      fill: #1967D2;\n",
              "      height: 32px;\n",
              "      padding: 0 0 0 0;\n",
              "      width: 32px;\n",
              "    }\n",
              "\n",
              "    .colab-df-convert:hover {\n",
              "      background-color: #E2EBFA;\n",
              "      box-shadow: 0px 1px 2px rgba(60, 64, 67, 0.3), 0px 1px 3px 1px rgba(60, 64, 67, 0.15);\n",
              "      fill: #174EA6;\n",
              "    }\n",
              "\n",
              "    [theme=dark] .colab-df-convert {\n",
              "      background-color: #3B4455;\n",
              "      fill: #D2E3FC;\n",
              "    }\n",
              "\n",
              "    [theme=dark] .colab-df-convert:hover {\n",
              "      background-color: #434B5C;\n",
              "      box-shadow: 0px 1px 3px 1px rgba(0, 0, 0, 0.15);\n",
              "      filter: drop-shadow(0px 1px 2px rgba(0, 0, 0, 0.3));\n",
              "      fill: #FFFFFF;\n",
              "    }\n",
              "  </style>\n",
              "\n",
              "      <script>\n",
              "        const buttonEl =\n",
              "          document.querySelector('#df-042e1d5e-4e7b-4862-acfc-981d98456e16 button.colab-df-convert');\n",
              "        buttonEl.style.display =\n",
              "          google.colab.kernel.accessAllowed ? 'block' : 'none';\n",
              "\n",
              "        async function convertToInteractive(key) {\n",
              "          const element = document.querySelector('#df-042e1d5e-4e7b-4862-acfc-981d98456e16');\n",
              "          const dataTable =\n",
              "            await google.colab.kernel.invokeFunction('convertToInteractive',\n",
              "                                                     [key], {});\n",
              "          if (!dataTable) return;\n",
              "\n",
              "          const docLinkHtml = 'Like what you see? Visit the ' +\n",
              "            '<a target=\"_blank\" href=https://colab.research.google.com/notebooks/data_table.ipynb>data table notebook</a>'\n",
              "            + ' to learn more about interactive tables.';\n",
              "          element.innerHTML = '';\n",
              "          dataTable['output_type'] = 'display_data';\n",
              "          await google.colab.output.renderOutput(dataTable, element);\n",
              "          const docLink = document.createElement('div');\n",
              "          docLink.innerHTML = docLinkHtml;\n",
              "          element.appendChild(docLink);\n",
              "        }\n",
              "      </script>\n",
              "    </div>\n",
              "  </div>\n",
              "  "
            ]
          },
          "metadata": {},
          "execution_count": 56
        }
      ]
    },
    {
      "cell_type": "code",
      "source": [
        "print(f\"DataFrame shape: {output_df.shape}\") # NBVAL_CHECK_OUTPUT"
      ],
      "metadata": {
        "colab": {
          "base_uri": "https://localhost:8080/"
        },
        "id": "Q-kM-J2CTSE6",
        "outputId": "d9c5d205-d10a-4169-8ab7-cf1e2e586f46"
      },
      "execution_count": 57,
      "outputs": [
        {
          "output_type": "stream",
          "name": "stdout",
          "text": [
            "DataFrame shape: (152, 5)\n"
          ]
        }
      ]
    }
  ]
}